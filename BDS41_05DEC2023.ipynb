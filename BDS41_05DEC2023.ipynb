{
  "nbformat": 4,
  "nbformat_minor": 0,
  "metadata": {
    "colab": {
      "provenance": [],
      "authorship_tag": "ABX9TyO4TTgJaa4BWrD64b5PFo7q",
      "include_colab_link": true
    },
    "kernelspec": {
      "name": "python3",
      "display_name": "Python 3"
    },
    "language_info": {
      "name": "python"
    }
  },
  "cells": [
    {
      "cell_type": "markdown",
      "metadata": {
        "id": "view-in-github",
        "colab_type": "text"
      },
      "source": [
        "<a href=\"https://colab.research.google.com/github/Shreaj11/TakeoBDS41/blob/main/BDS41_05DEC2023.ipynb\" target=\"_parent\"><img src=\"https://colab.research.google.com/assets/colab-badge.svg\" alt=\"Open In Colab\"/></a>"
      ]
    },
    {
      "cell_type": "code",
      "execution_count": null,
      "metadata": {
        "id": "pG-49Mp5sDLS"
      },
      "outputs": [],
      "source": [
        "mobile = 9890781832\n",
        "print(mobile, type(mobile))\n",
        "percent = 87.65\n",
        "print(percent, type(percent))\n",
        "complx = 12+23j\n",
        "print(complx, type(complx))\n",
        "visa = True\n",
        "print(visa, type(visa))\n",
        "name = 'Sukesh Mishra'\n",
        "print(name,type(name))\n",
        "name = \"Sukesh Mishra\"\n",
        "print(name,type(name))\n",
        "name = '''Sukesh Mishra'''\n",
        "print(name,type(name))\n",
        "name = \"\"\"Sukesh Mishra\"\"\"\n",
        "print(name,type(name))"
      ]
    },
    {
      "cell_type": "code",
      "source": [
        "mobile = 12345678\n",
        "print(mobile, type(mobile))\n",
        "percent = 89.23\n",
        "print(percent, type(percent))\n",
        "complx = 12+23j\n",
        "print(complx, type(complx))\n",
        "visa = True\n",
        "print(visa, type(visa))\n",
        "name = 'Shreaj Nakarmi'\n",
        "print(name,type(name))\n",
        "name = \"Shreaj Nakarmi\"\n",
        "print(name,type(name))"
      ],
      "metadata": {
        "id": "9sBmree8uV3x"
      },
      "execution_count": null,
      "outputs": []
    },
    {
      "cell_type": "code",
      "source": [
        "lst1 = ['apple','banana','cherries','dates']\n",
        "print(lst1,type(lst1))\n",
        "\n",
        "tup1=('sugar','tea','coffee','bread')\n",
        "print(tup1,type(tup1))\n",
        "\n",
        "set1 = {1,2,3,4,5,'a','b','c','d',12.23,34.45,55.66,True,False}\n",
        "print(set1,type(set1))\n",
        "\n",
        "dict1= {1:'apple', 2:'banana',3:'cherries',4:'dates'}\n",
        "print(dict1,type(dict1))"
      ],
      "metadata": {
        "id": "RUIp3Kz0w4WF"
      },
      "execution_count": null,
      "outputs": []
    },
    {
      "cell_type": "code",
      "source": [
        "my_list = [1, 2, 3, 4]\n",
        "print(my_list,type(my_list))\n",
        "\n",
        "my_tupl=(5,6,7,8)\n",
        "print(my_tupl,type(my_tupl))\n",
        "\n",
        "set1 = {True,False,1,2,3,4,5,'a','b','c','d',12.23,34.45,55.66}\n",
        "print(set1,type(set1))\n",
        "\n",
        "dict1=  {'A': 13, 'B': 14, 'C': 15, 'D': 16}\n",
        "print(dict1,type(dict1))"
      ],
      "metadata": {
        "colab": {
          "base_uri": "https://localhost:8080/"
        },
        "id": "q7cpgmiwzicT",
        "outputId": "9ee6b960-4209-43ef-ed7c-6393fbf11f70"
      },
      "execution_count": null,
      "outputs": [
        {
          "output_type": "stream",
          "name": "stdout",
          "text": [
            "[1, 2, 3, 4] <class 'list'>\n",
            "(5, 6, 7, 8) <class 'tuple'>\n",
            "{False, True, 2, 3, 4, 5, 'b', 'c', 34.45, 'a', 12.23, 55.66, 'd'} <class 'set'>\n",
            "{'A': 13, 'B': 14, 'C': 15, 'D': 16} <class 'dict'>\n"
          ]
        }
      ]
    },
    {
      "cell_type": "code",
      "source": [
        "lst1 =['apple','banana','cherries','dates','eggfruit','fig','grapes','honeyfruit']\n",
        "print(lst1,type(lst1))\n"
      ],
      "metadata": {
        "colab": {
          "base_uri": "https://localhost:8080/"
        },
        "id": "0RwlwVY92IrZ",
        "outputId": "a8246f79-f97b-41aa-a267-163e5e3b3e8a"
      },
      "execution_count": null,
      "outputs": [
        {
          "output_type": "stream",
          "name": "stdout",
          "text": [
            "['apple', 'banana', 'cherries', 'dates', 'eggfruit', 'fig', 'grapes', 'honeyfruit'] <class 'list'>\n"
          ]
        }
      ]
    },
    {
      "cell_type": "code",
      "source": [
        "print(lst1)\n",
        "lst1.append('mango')\n",
        "print(lst1)"
      ],
      "metadata": {
        "colab": {
          "base_uri": "https://localhost:8080/"
        },
        "id": "WXCJDSVs2nlo",
        "outputId": "c47d8afd-c330-4d43-f355-00b1fbf5c7b8"
      },
      "execution_count": null,
      "outputs": [
        {
          "output_type": "stream",
          "name": "stdout",
          "text": [
            "['apple', 'banana', 'cherries', 'dates', 'eggfruit', 'fig', 'grapes', 'honeyfruit']\n",
            "['apple', 'banana', 'cherries', 'dates', 'eggfruit', 'fig', 'grapes', 'honeyfruit', 'mango']\n"
          ]
        }
      ]
    },
    {
      "cell_type": "code",
      "source": [
        "print(lst1)\n",
        "lst1.clear()\n",
        "print(lst1)"
      ],
      "metadata": {
        "colab": {
          "base_uri": "https://localhost:8080/"
        },
        "id": "tjupqnEM3Bzt",
        "outputId": "f0d7d785-28fe-45ea-97c3-178872af3660"
      },
      "execution_count": null,
      "outputs": [
        {
          "output_type": "stream",
          "name": "stdout",
          "text": [
            "['apple', 'banana', 'cherries', 'dates', 'eggfruit', 'fig', 'grapes', 'honeyfruit', 'mango']\n",
            "[]\n"
          ]
        }
      ]
    },
    {
      "cell_type": "code",
      "source": [
        "lst1 = ['apple', 'banana', 'cherries', 'dates', 'eggfruit', 'fig', 'grapes', 'honeyfruit', 'mango']"
      ],
      "metadata": {
        "id": "qUdheosE3E6n"
      },
      "execution_count": null,
      "outputs": []
    },
    {
      "cell_type": "code",
      "source": [
        "print(lst1)\n",
        "lst2 = lst1.copy()\n",
        "print(lst2)"
      ],
      "metadata": {
        "colab": {
          "base_uri": "https://localhost:8080/"
        },
        "id": "AmhmOZIR3E04",
        "outputId": "537df6f3-6a4a-4b96-e57d-d054f32ad974"
      },
      "execution_count": null,
      "outputs": [
        {
          "output_type": "stream",
          "name": "stdout",
          "text": [
            "['apple', 'banana', 'cherries', 'dates', 'eggfruit', 'fig', 'grapes', 'honeyfruit', 'mango']\n",
            "['apple', 'banana', 'cherries', 'dates', 'eggfruit', 'fig', 'grapes', 'honeyfruit', 'mango']\n"
          ]
        }
      ]
    },
    {
      "cell_type": "code",
      "source": [
        "print(lst1)\n",
        "lst1.count('apple')"
      ],
      "metadata": {
        "colab": {
          "base_uri": "https://localhost:8080/"
        },
        "id": "oOnEruim3SjV",
        "outputId": "54af026c-26e0-41d2-ea5a-7f329624519d"
      },
      "execution_count": null,
      "outputs": [
        {
          "output_type": "stream",
          "name": "stdout",
          "text": [
            "['apple', 'banana', 'cherries', 'dates', 'eggfruit', 'fig', 'grapes', 'honeyfruit', 'mango']\n"
          ]
        },
        {
          "output_type": "execute_result",
          "data": {
            "text/plain": [
              "1"
            ]
          },
          "metadata": {},
          "execution_count": 23
        }
      ]
    },
    {
      "cell_type": "code",
      "source": [
        "print(lst1)\n",
        "lst1.extend(['pineapple','custurd','greenapple'])\n",
        "print(lst1)"
      ],
      "metadata": {
        "colab": {
          "base_uri": "https://localhost:8080/"
        },
        "id": "62fYm4R13Sgv",
        "outputId": "e8d61c2a-8b1d-48ac-f78c-d3fadd1e54e6"
      },
      "execution_count": null,
      "outputs": [
        {
          "output_type": "stream",
          "name": "stdout",
          "text": [
            "['apple', 'banana', 'cherries', 'dates', 'eggfruit', 'fig', 'grapes', 'honeyfruit', 'mango']\n",
            "['apple', 'banana', 'cherries', 'dates', 'eggfruit', 'fig', 'grapes', 'honeyfruit', 'mango', 'pineapple', 'custurd', 'greenapple']\n"
          ]
        }
      ]
    },
    {
      "cell_type": "code",
      "source": [
        "print(lst1)\n",
        "lst1.index('apple')\n"
      ],
      "metadata": {
        "colab": {
          "base_uri": "https://localhost:8080/"
        },
        "id": "YIDB5ZaF3SeK",
        "outputId": "eb6c1bfe-1e9c-449d-e9a0-7d32356afc3f"
      },
      "execution_count": null,
      "outputs": [
        {
          "output_type": "stream",
          "name": "stdout",
          "text": [
            "['apple', 'banana', 'cherries', 'dates', 'eggfruit', 'fig', 'grapes', 'honeyfruit', 'mango', 'pineapple', 'custurd', 'greenapple']\n"
          ]
        },
        {
          "output_type": "execute_result",
          "data": {
            "text/plain": [
              "0"
            ]
          },
          "metadata": {},
          "execution_count": 27
        }
      ]
    },
    {
      "cell_type": "code",
      "source": [
        "lst1 = ['apple', 'banana', 'cherries', 'dates','apple', 'eggfruit', 'fig', 'grapes', 'honeyfruit', 'mango']\n",
        "print(lst1)\n",
        "lst1.index('apple',3,8)"
      ],
      "metadata": {
        "colab": {
          "base_uri": "https://localhost:8080/"
        },
        "id": "ywRRnomB3Sa-",
        "outputId": "8437ee46-e635-45d3-b8f2-fb5ee24edc83"
      },
      "execution_count": null,
      "outputs": [
        {
          "output_type": "stream",
          "name": "stdout",
          "text": [
            "['apple', 'banana', 'cherries', 'dates', 'apple', 'eggfruit', 'fig', 'grapes', 'honeyfruit', 'mango']\n"
          ]
        },
        {
          "output_type": "execute_result",
          "data": {
            "text/plain": [
              "4"
            ]
          },
          "metadata": {},
          "execution_count": 30
        }
      ]
    },
    {
      "cell_type": "code",
      "source": [
        "lst1 = ['apple', 'banana', 'cherries', 'dates', 'eggfruit', 'fig', 'grapes', 'honeyfruit', 'mango']\n",
        "print(lst1)\n",
        "lst1.insert(1,'apricot') # insert in the\n",
        "print(lst1)\n"
      ],
      "metadata": {
        "colab": {
          "base_uri": "https://localhost:8080/"
        },
        "id": "f5bRKxSA4avf",
        "outputId": "133e2c4f-0bbd-433e-e31c-f3c364ecc244"
      },
      "execution_count": null,
      "outputs": [
        {
          "output_type": "stream",
          "name": "stdout",
          "text": [
            "['apple', 'banana', 'cherries', 'dates', 'eggfruit', 'fig', 'grapes', 'honeyfruit', 'mango']\n",
            "['apple', 'apricot', 'banana', 'cherries', 'dates', 'eggfruit', 'fig', 'grapes', 'honeyfruit', 'mango']\n"
          ]
        }
      ]
    },
    {
      "cell_type": "code",
      "source": [
        "print(lst1)\n",
        "lst1.pop() # removes from the last place\n",
        "print(lst1)\n",
        "lst1.pop()\n",
        "print(lst1)\n",
        "lst1.pop()\n",
        "print(lst1)\n",
        "lst1.pop()\n",
        "print(lst1)"
      ],
      "metadata": {
        "colab": {
          "base_uri": "https://localhost:8080/"
        },
        "id": "HAdVvNdT4atK",
        "outputId": "9faf0338-4b13-4c99-ad32-563fe3ca77ef"
      },
      "execution_count": null,
      "outputs": [
        {
          "output_type": "stream",
          "name": "stdout",
          "text": [
            "['apple', 'apricot', 'banana', 'cherries', 'dates', 'eggfruit', 'fig', 'grapes', 'honeyfruit']\n",
            "['apple', 'apricot', 'banana', 'cherries', 'dates', 'eggfruit', 'fig', 'grapes']\n",
            "['apple', 'apricot', 'banana', 'cherries', 'dates', 'eggfruit', 'fig']\n",
            "['apple', 'apricot', 'banana', 'cherries', 'dates', 'eggfruit']\n",
            "['apple', 'apricot', 'banana', 'cherries', 'dates']\n"
          ]
        }
      ]
    },
    {
      "cell_type": "code",
      "source": [
        "lst1=['apple', 'apricot', 'banana', 'cherries', 'dates', 'eggfruit', 'fig', 'grapes', 'honeyfruit', 'mango']\n"
      ],
      "metadata": {
        "id": "f8XHCqPn4aq3"
      },
      "execution_count": null,
      "outputs": []
    },
    {
      "cell_type": "code",
      "source": [
        "print(lst1)\n",
        "lst1.pop(3) # removes the value for 3 psition\n",
        "print(lst1)"
      ],
      "metadata": {
        "colab": {
          "base_uri": "https://localhost:8080/"
        },
        "id": "w9sUdprS4aoT",
        "outputId": "3eac59d2-b159-4088-fd71-b3489e4e4c26"
      },
      "execution_count": null,
      "outputs": [
        {
          "output_type": "stream",
          "name": "stdout",
          "text": [
            "['apple', 'apricot', 'banana', 'cherries', 'dates', 'eggfruit', 'fig', 'grapes', 'honeyfruit', 'mango']\n",
            "['apple', 'apricot', 'banana', 'dates', 'eggfruit', 'fig', 'grapes', 'honeyfruit', 'mango']\n"
          ]
        }
      ]
    },
    {
      "cell_type": "code",
      "source": [
        "print(lst1)\n",
        "lst1.remove('fig') # removes fig from the list\n",
        "print(lst1)"
      ],
      "metadata": {
        "colab": {
          "base_uri": "https://localhost:8080/"
        },
        "id": "RNwdIYF14amJ",
        "outputId": "12e3f881-7b46-451c-e42a-db9223488fef"
      },
      "execution_count": null,
      "outputs": [
        {
          "output_type": "stream",
          "name": "stdout",
          "text": [
            "['apple', 'apricot', 'banana', 'dates', 'eggfruit', 'fig', 'grapes', 'honeyfruit', 'mango']\n",
            "['apple', 'apricot', 'banana', 'dates', 'eggfruit', 'grapes', 'honeyfruit', 'mango']\n"
          ]
        }
      ]
    },
    {
      "cell_type": "code",
      "source": [
        "print(lst1)\n",
        "lst1.reverse() # reverse the list\n",
        "print(lst1)"
      ],
      "metadata": {
        "colab": {
          "base_uri": "https://localhost:8080/"
        },
        "id": "zRTCBga_4ajh",
        "outputId": "67adf728-a74e-4fa5-ada1-f12c073203dd"
      },
      "execution_count": null,
      "outputs": [
        {
          "output_type": "stream",
          "name": "stdout",
          "text": [
            "['apple', 'apricot', 'banana', 'dates', 'eggfruit', 'grapes', 'honeyfruit', 'mango']\n",
            "['mango', 'honeyfruit', 'grapes', 'eggfruit', 'dates', 'banana', 'apricot', 'apple']\n"
          ]
        }
      ]
    },
    {
      "cell_type": "code",
      "source": [
        "print(lst1)\n",
        "lst1.sort() # in sorted order\n",
        "print(lst1)"
      ],
      "metadata": {
        "colab": {
          "base_uri": "https://localhost:8080/"
        },
        "id": "flI08JuA4agr",
        "outputId": "c2a6c62b-9a68-4c72-8980-a69a2e30a31e"
      },
      "execution_count": null,
      "outputs": [
        {
          "output_type": "stream",
          "name": "stdout",
          "text": [
            "['mango', 'honeyfruit', 'grapes', 'eggfruit', 'dates', 'banana', 'apricot', 'apple']\n",
            "['apple', 'apricot', 'banana', 'dates', 'eggfruit', 'grapes', 'honeyfruit', 'mango']\n"
          ]
        }
      ]
    },
    {
      "cell_type": "code",
      "source": [
        "my_lst=['one', 'two', 'three', 'four', 'five', 'six', 'seven', 'eight']\n",
        "print(my_lst)"
      ],
      "metadata": {
        "colab": {
          "base_uri": "https://localhost:8080/"
        },
        "id": "gmcrfyFJ4aeR",
        "outputId": "6ce0175a-e2c6-459b-9e25-a141d71ab6b3"
      },
      "execution_count": null,
      "outputs": [
        {
          "output_type": "stream",
          "name": "stdout",
          "text": [
            "['one', 'two', 'three', 'four', 'five', 'six', 'seven', 'eight']\n"
          ]
        }
      ]
    },
    {
      "cell_type": "code",
      "source": [
        "print(my_lst)\n",
        "my_lst.append('nine')\n",
        "print(my_lst)"
      ],
      "metadata": {
        "colab": {
          "base_uri": "https://localhost:8080/"
        },
        "id": "RutVmcjK4abx",
        "outputId": "6dab9378-3c7c-474a-927b-3192f9d9ea86"
      },
      "execution_count": null,
      "outputs": [
        {
          "output_type": "stream",
          "name": "stdout",
          "text": [
            "['one', 'two', 'three', 'four', 'five', 'six', 'seven', 'eight']\n",
            "['one', 'two', 'three', 'four', 'five', 'six', 'seven', 'eight', 'nine']\n"
          ]
        }
      ]
    },
    {
      "cell_type": "code",
      "source": [
        "print(my_lst)\n",
        "my_lst.clear()\n",
        "print(my_lst)"
      ],
      "metadata": {
        "colab": {
          "base_uri": "https://localhost:8080/"
        },
        "id": "dMLaeROW4aZU",
        "outputId": "e85a3f06-05ca-45bd-d7d1-3c83d62aa568"
      },
      "execution_count": null,
      "outputs": [
        {
          "output_type": "stream",
          "name": "stdout",
          "text": [
            "['one', 'two', 'three', 'four', 'five', 'six', 'seven', 'eight', 'nine']\n",
            "[]\n"
          ]
        }
      ]
    },
    {
      "cell_type": "code",
      "source": [
        "my_lst=['one', 'two', 'three', 'four', 'five', 'six', 'seven', 'eight']"
      ],
      "metadata": {
        "id": "uoSoN8RC4aWl"
      },
      "execution_count": null,
      "outputs": []
    },
    {
      "cell_type": "code",
      "source": [
        "print(my_lst)\n",
        "my_lst2 = my_lst.copy()\n",
        "print(my_lst2)"
      ],
      "metadata": {
        "colab": {
          "base_uri": "https://localhost:8080/"
        },
        "id": "V5uWI5tT8WE2",
        "outputId": "1a64440a-1d81-4bfd-f25c-c0e4af06c936"
      },
      "execution_count": null,
      "outputs": [
        {
          "output_type": "stream",
          "name": "stdout",
          "text": [
            "['one', 'two', 'three', 'four', 'five', 'six', 'seven', 'eight']\n",
            "['one', 'two', 'three', 'four', 'five', 'six', 'seven', 'eight']\n"
          ]
        }
      ]
    },
    {
      "cell_type": "code",
      "source": [
        "my_lst=['one', 'two', 'three', 'four', 'five', 'six', 'seven', 'eight','eight']\n",
        "print(my_lst)\n",
        "my_lst.count('eight')\n"
      ],
      "metadata": {
        "colab": {
          "base_uri": "https://localhost:8080/"
        },
        "id": "lprLeype8ijp",
        "outputId": "0d9b00ae-36c0-43cd-ea55-45791a0cb299"
      },
      "execution_count": null,
      "outputs": [
        {
          "output_type": "stream",
          "name": "stdout",
          "text": [
            "['one', 'two', 'three', 'four', 'five', 'six', 'seven', 'eight', 'eight']\n"
          ]
        },
        {
          "output_type": "execute_result",
          "data": {
            "text/plain": [
              "2"
            ]
          },
          "metadata": {},
          "execution_count": 70
        }
      ]
    },
    {
      "cell_type": "code",
      "source": [
        "print(my_lst)\n",
        "my_lst.extend(['nine','ten','eleven'])\n",
        "print(my_lst)"
      ],
      "metadata": {
        "colab": {
          "base_uri": "https://localhost:8080/"
        },
        "id": "RrxrGIbE8ig4",
        "outputId": "7c5f5466-eb4b-4ad8-b1a4-86d8a0141fba"
      },
      "execution_count": null,
      "outputs": [
        {
          "output_type": "stream",
          "name": "stdout",
          "text": [
            "['one', 'two', 'three', 'four', 'five', 'six', 'seven', 'eight', 'eight']\n",
            "['one', 'two', 'three', 'four', 'five', 'six', 'seven', 'eight', 'eight', 'nine', 'ten', 'eleven']\n"
          ]
        }
      ]
    },
    {
      "cell_type": "code",
      "source": [
        "print(my_lst)\n",
        "my_lst.index('eight')\n"
      ],
      "metadata": {
        "colab": {
          "base_uri": "https://localhost:8080/"
        },
        "id": "V6ao5zZG8ieg",
        "outputId": "71133820-aef5-4f5d-fe46-02344945ec4f"
      },
      "execution_count": null,
      "outputs": [
        {
          "output_type": "stream",
          "name": "stdout",
          "text": [
            "['one', 'two', 'three', 'four', 'five', 'six', 'seven', 'eight', 'eight', 'nine', 'ten', 'eleven']\n"
          ]
        },
        {
          "output_type": "execute_result",
          "data": {
            "text/plain": [
              "7"
            ]
          },
          "metadata": {},
          "execution_count": 73
        }
      ]
    },
    {
      "cell_type": "code",
      "source": [
        "print(my_lst)\n",
        "my_lst.insert(1,'zero')\n",
        "print(my_lst)"
      ],
      "metadata": {
        "colab": {
          "base_uri": "https://localhost:8080/"
        },
        "id": "ZDvAiqEZ8icQ",
        "outputId": "ca34178c-359b-4ecf-c5c8-2509f9633fb2"
      },
      "execution_count": null,
      "outputs": [
        {
          "output_type": "stream",
          "name": "stdout",
          "text": [
            "['one', 'two', 'three', 'four', 'five', 'six', 'seven', 'eight', 'eight', 'nine', 'ten', 'eleven']\n",
            "['one', 'zero', 'two', 'three', 'four', 'five', 'six', 'seven', 'eight', 'eight', 'nine', 'ten', 'eleven']\n"
          ]
        }
      ]
    },
    {
      "cell_type": "code",
      "source": [
        "print(my_lst)\n",
        "my_lst.pop()\n",
        "print(my_lst)"
      ],
      "metadata": {
        "colab": {
          "base_uri": "https://localhost:8080/"
        },
        "id": "V5s1uar48iaL",
        "outputId": "2df8c31a-77c4-41dd-ff57-ca9be720e51d"
      },
      "execution_count": null,
      "outputs": [
        {
          "output_type": "stream",
          "name": "stdout",
          "text": [
            "['one', 'zero', 'two', 'three', 'four', 'five', 'six', 'seven', 'eight', 'eight', 'nine', 'ten', 'eleven']\n",
            "['one', 'zero', 'two', 'three', 'four', 'five', 'six', 'seven', 'eight', 'eight', 'nine', 'ten']\n"
          ]
        }
      ]
    },
    {
      "cell_type": "code",
      "source": [
        "print(my_lst)\n",
        "my_lst.remove('eight')\n",
        "print(my_lst)"
      ],
      "metadata": {
        "colab": {
          "base_uri": "https://localhost:8080/"
        },
        "id": "XeuZnePt8iXs",
        "outputId": "20e6a56f-0f7a-41df-d3ab-e0fb1d7bebb1"
      },
      "execution_count": null,
      "outputs": [
        {
          "output_type": "stream",
          "name": "stdout",
          "text": [
            "['one', 'zero', 'two', 'three', 'four', 'five', 'six', 'seven', 'eight', 'eight', 'nine', 'ten']\n",
            "['one', 'zero', 'two', 'three', 'four', 'five', 'six', 'seven', 'eight', 'nine', 'ten']\n"
          ]
        }
      ]
    },
    {
      "cell_type": "code",
      "source": [
        "print(my_lst)\n",
        "my_lst.reverse()\n",
        "print(my_lst)"
      ],
      "metadata": {
        "colab": {
          "base_uri": "https://localhost:8080/"
        },
        "id": "3zxCTAk18iU-",
        "outputId": "ef04f3ef-a970-415e-8639-f6252ecbee9a"
      },
      "execution_count": null,
      "outputs": [
        {
          "output_type": "stream",
          "name": "stdout",
          "text": [
            "['one', 'zero', 'two', 'three', 'four', 'five', 'six', 'seven', 'eight', 'nine', 'ten']\n",
            "['ten', 'nine', 'eight', 'seven', 'six', 'five', 'four', 'three', 'two', 'zero', 'one']\n"
          ]
        }
      ]
    },
    {
      "cell_type": "code",
      "source": [
        "print(my_lst)\n",
        "my_lst.sort()\n",
        "print(my_lst)"
      ],
      "metadata": {
        "colab": {
          "base_uri": "https://localhost:8080/"
        },
        "id": "D3wdD_FK8iSq",
        "outputId": "302b565b-80b7-429f-afbf-9ded724c15a9"
      },
      "execution_count": null,
      "outputs": [
        {
          "output_type": "stream",
          "name": "stdout",
          "text": [
            "['ten', 'nine', 'eight', 'seven', 'six', 'five', 'four', 'three', 'two', 'zero', 'one']\n",
            "['eight', 'five', 'four', 'nine', 'one', 'seven', 'six', 'ten', 'three', 'two', 'zero']\n"
          ]
        }
      ]
    },
    {
      "cell_type": "code",
      "source": [
        "print(lst1)\n",
        "lst1[0],lst1[1],lst1[2]"
      ],
      "metadata": {
        "colab": {
          "base_uri": "https://localhost:8080/"
        },
        "id": "xcrmXdtY8iQS",
        "outputId": "f8d058c8-8194-44a0-d634-c407b07ad809"
      },
      "execution_count": null,
      "outputs": [
        {
          "output_type": "stream",
          "name": "stdout",
          "text": [
            "['apple', 'apricot', 'banana', 'dates', 'eggfruit', 'grapes', 'honeyfruit', 'mango']\n"
          ]
        },
        {
          "output_type": "execute_result",
          "data": {
            "text/plain": [
              "('apple', 'apricot', 'banana')"
            ]
          },
          "metadata": {},
          "execution_count": 81
        }
      ]
    },
    {
      "cell_type": "code",
      "source": [
        "lst1[0:3:1]"
      ],
      "metadata": {
        "colab": {
          "base_uri": "https://localhost:8080/"
        },
        "id": "yD0cip738iNp",
        "outputId": "1bc74be5-e3ba-4add-81df-a18c91435ae4"
      },
      "execution_count": null,
      "outputs": [
        {
          "output_type": "execute_result",
          "data": {
            "text/plain": [
              "['apple', 'apricot', 'banana']"
            ]
          },
          "metadata": {},
          "execution_count": 83
        }
      ]
    },
    {
      "cell_type": "code",
      "source": [
        "lst1[2:7:1]"
      ],
      "metadata": {
        "colab": {
          "base_uri": "https://localhost:8080/"
        },
        "id": "y1CEfE7K_MjV",
        "outputId": "9e381570-fc88-44a3-e80c-21477c8e45da"
      },
      "execution_count": null,
      "outputs": [
        {
          "output_type": "execute_result",
          "data": {
            "text/plain": [
              "['banana', 'dates', 'eggfruit', 'grapes', 'honeyfruit']"
            ]
          },
          "metadata": {},
          "execution_count": 86
        }
      ]
    },
    {
      "cell_type": "code",
      "source": [
        "lst1[0::1]"
      ],
      "metadata": {
        "colab": {
          "base_uri": "https://localhost:8080/"
        },
        "id": "TR2O7tHR_Mgj",
        "outputId": "6051df6e-a44c-4b66-bbfc-58834f974041"
      },
      "execution_count": null,
      "outputs": [
        {
          "output_type": "execute_result",
          "data": {
            "text/plain": [
              "['apple',\n",
              " 'apricot',\n",
              " 'banana',\n",
              " 'dates',\n",
              " 'eggfruit',\n",
              " 'grapes',\n",
              " 'honeyfruit',\n",
              " 'mango']"
            ]
          },
          "metadata": {},
          "execution_count": 88
        }
      ]
    },
    {
      "cell_type": "code",
      "source": [
        "lst1[::]"
      ],
      "metadata": {
        "colab": {
          "base_uri": "https://localhost:8080/"
        },
        "id": "miy0Ph8i_MQD",
        "outputId": "2a01a355-354c-4b67-de61-206a37d27007"
      },
      "execution_count": null,
      "outputs": [
        {
          "output_type": "execute_result",
          "data": {
            "text/plain": [
              "['apple',\n",
              " 'apricot',\n",
              " 'banana',\n",
              " 'dates',\n",
              " 'eggfruit',\n",
              " 'grapes',\n",
              " 'honeyfruit',\n",
              " 'mango']"
            ]
          },
          "metadata": {},
          "execution_count": 90
        }
      ]
    },
    {
      "cell_type": "code",
      "source": [
        "lst1[0:len(lst1):1]"
      ],
      "metadata": {
        "colab": {
          "base_uri": "https://localhost:8080/"
        },
        "id": "5JEupaiT_MNy",
        "outputId": "84e5fc26-d9e4-44a9-9f4e-c42723a974ec"
      },
      "execution_count": null,
      "outputs": [
        {
          "output_type": "execute_result",
          "data": {
            "text/plain": [
              "['apple',\n",
              " 'apricot',\n",
              " 'banana',\n",
              " 'dates',\n",
              " 'eggfruit',\n",
              " 'grapes',\n",
              " 'honeyfruit',\n",
              " 'mango']"
            ]
          },
          "metadata": {},
          "execution_count": 91
        }
      ]
    },
    {
      "cell_type": "code",
      "source": [
        "print(my_lst)\n"
      ],
      "metadata": {
        "colab": {
          "base_uri": "https://localhost:8080/"
        },
        "id": "1g-4yTOc_ML0",
        "outputId": "cf22b370-36e7-445a-abdc-4f4adb44789c"
      },
      "execution_count": null,
      "outputs": [
        {
          "output_type": "stream",
          "name": "stdout",
          "text": [
            "['eight', 'five', 'four', 'nine', 'one', 'seven', 'six', 'ten', 'three', 'two', 'zero']\n"
          ]
        }
      ]
    },
    {
      "cell_type": "code",
      "source": [
        "my_lst[0:5]"
      ],
      "metadata": {
        "colab": {
          "base_uri": "https://localhost:8080/"
        },
        "id": "HKbR4mc4_MJB",
        "outputId": "7f3db17b-d21e-40f5-b0ac-edc073e8e793"
      },
      "execution_count": null,
      "outputs": [
        {
          "output_type": "execute_result",
          "data": {
            "text/plain": [
              "['eight', 'five', 'four', 'nine', 'one']"
            ]
          },
          "metadata": {},
          "execution_count": 93
        }
      ]
    },
    {
      "cell_type": "code",
      "source": [
        "my_lst[0::2]"
      ],
      "metadata": {
        "colab": {
          "base_uri": "https://localhost:8080/"
        },
        "id": "sh9tPc5pCirU",
        "outputId": "e5729552-278e-489d-a427-4ac5fdb8ace5"
      },
      "execution_count": null,
      "outputs": [
        {
          "output_type": "execute_result",
          "data": {
            "text/plain": [
              "['eight', 'four', 'one', 'six', 'three', 'zero']"
            ]
          },
          "metadata": {},
          "execution_count": 94
        }
      ]
    },
    {
      "cell_type": "code",
      "source": [
        "my_lst[:]"
      ],
      "metadata": {
        "colab": {
          "base_uri": "https://localhost:8080/"
        },
        "id": "1_xdwgEGCioy",
        "outputId": "eb28041c-5fb0-4dcf-ccee-e0a8362142e1"
      },
      "execution_count": null,
      "outputs": [
        {
          "output_type": "execute_result",
          "data": {
            "text/plain": [
              "['eight',\n",
              " 'five',\n",
              " 'four',\n",
              " 'nine',\n",
              " 'one',\n",
              " 'seven',\n",
              " 'six',\n",
              " 'ten',\n",
              " 'three',\n",
              " 'two',\n",
              " 'zero']"
            ]
          },
          "metadata": {},
          "execution_count": 95
        }
      ]
    },
    {
      "cell_type": "code",
      "source": [
        "my_lst[:2]"
      ],
      "metadata": {
        "colab": {
          "base_uri": "https://localhost:8080/"
        },
        "id": "dTreg3CeCimf",
        "outputId": "ad41050b-fed7-43f4-9a46-7bf7e388e6b8"
      },
      "execution_count": null,
      "outputs": [
        {
          "output_type": "execute_result",
          "data": {
            "text/plain": [
              "['eight', 'five']"
            ]
          },
          "metadata": {},
          "execution_count": 96
        }
      ]
    },
    {
      "cell_type": "code",
      "source": [
        "my_lst[0:2]"
      ],
      "metadata": {
        "colab": {
          "base_uri": "https://localhost:8080/"
        },
        "id": "_OVAD0XYCijr",
        "outputId": "1da23845-4fc2-49e2-d3da-ecec0c8ce3c9"
      },
      "execution_count": null,
      "outputs": [
        {
          "output_type": "execute_result",
          "data": {
            "text/plain": [
              "['eight', 'five']"
            ]
          },
          "metadata": {},
          "execution_count": 97
        }
      ]
    },
    {
      "cell_type": "code",
      "source": [
        "lst1[::]"
      ],
      "metadata": {
        "colab": {
          "base_uri": "https://localhost:8080/"
        },
        "id": "6MH2zh5LCig9",
        "outputId": "2936c49b-edd8-4eda-9e99-2f6524959756"
      },
      "execution_count": null,
      "outputs": [
        {
          "output_type": "execute_result",
          "data": {
            "text/plain": [
              "['apple',\n",
              " 'apricot',\n",
              " 'banana',\n",
              " 'dates',\n",
              " 'eggfruit',\n",
              " 'grapes',\n",
              " 'honeyfruit',\n",
              " 'mango']"
            ]
          },
          "metadata": {},
          "execution_count": 99
        }
      ]
    },
    {
      "cell_type": "code",
      "source": [
        "lst1[::-1]"
      ],
      "metadata": {
        "colab": {
          "base_uri": "https://localhost:8080/"
        },
        "id": "huCU3K2oCieF",
        "outputId": "3f6f3f2e-78ce-4214-e2ed-778bc323a20d"
      },
      "execution_count": null,
      "outputs": [
        {
          "output_type": "execute_result",
          "data": {
            "text/plain": [
              "['mango',\n",
              " 'honeyfruit',\n",
              " 'grapes',\n",
              " 'eggfruit',\n",
              " 'dates',\n",
              " 'banana',\n",
              " 'apricot',\n",
              " 'apple']"
            ]
          },
          "metadata": {},
          "execution_count": 100
        }
      ]
    },
    {
      "cell_type": "code",
      "source": [
        "lst1[-1:-4:-1]"
      ],
      "metadata": {
        "colab": {
          "base_uri": "https://localhost:8080/"
        },
        "id": "LcH4pchnEELc",
        "outputId": "0d4d6774-2375-44b3-9d9e-f49176a69afb"
      },
      "execution_count": null,
      "outputs": [
        {
          "output_type": "execute_result",
          "data": {
            "text/plain": [
              "['mango', 'honeyfruit', 'grapes']"
            ]
          },
          "metadata": {},
          "execution_count": 107
        }
      ]
    }
  ]
}