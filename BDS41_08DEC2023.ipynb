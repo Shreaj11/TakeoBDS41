{
  "nbformat": 4,
  "nbformat_minor": 0,
  "metadata": {
    "colab": {
      "provenance": [],
      "authorship_tag": "ABX9TyM909o2B2Myy8XX8PR5E4WY",
      "include_colab_link": true
    },
    "kernelspec": {
      "name": "python3",
      "display_name": "Python 3"
    },
    "language_info": {
      "name": "python"
    }
  },
  "cells": [
    {
      "cell_type": "markdown",
      "metadata": {
        "id": "view-in-github",
        "colab_type": "text"
      },
      "source": [
        "<a href=\"https://colab.research.google.com/github/Shreaj11/TakeoBDS41/blob/main/BDS41_08DEC2023.ipynb\" target=\"_parent\"><img src=\"https://colab.research.google.com/assets/colab-badge.svg\" alt=\"Open In Colab\"/></a>"
      ]
    },
    {
      "cell_type": "code",
      "execution_count": 3,
      "metadata": {
        "colab": {
          "base_uri": "https://localhost:8080/"
        },
        "id": "JZgpdeqnGRjJ",
        "outputId": "70df8ac8-0e41-44da-eacd-072fb760f588"
      },
      "outputs": [
        {
          "output_type": "stream",
          "name": "stdout",
          "text": [
            "percetage 98\n",
            "Passed with First Class Distinction\n",
            "percetage 90\n",
            "Passed with First Class Distinction\n",
            "percetage 87\n",
            "Passed with First Class Distinction\n",
            "percetage 80\n",
            "Passes with First \n",
            "percetage 76\n",
            "Passes with First \n",
            "percetage 70\n",
            "Passes with First \n",
            "percetage 65\n",
            "Passes with First \n",
            "percetage 60\n",
            "Passes with First \n",
            "percetage 54\n",
            "Passes with Second class \n",
            "percetage 50\n",
            "Passes with Second class \n",
            "percetage 43\n",
            "Passes with Second class \n",
            "percetage 40\n",
            "Passes with Second class \n"
          ]
        }
      ],
      "source": [
        "student_lst1=[98,90,87,80,76,70,65,60,54,50,43,40]\n",
        "for i in student_lst1:\n",
        "  print('percetage',i)\n",
        "  if i >=85:\n",
        "    print('Passed with First Class Distinction')\n",
        "  elif i >=60:\n",
        "    print('Passes with First ')\n",
        "  elif i >=40:\n",
        "    print('Passes with Second class ')\n",
        "  else:\n",
        "    print('Better Luck Next time')\n",
        ""
      ]
    },
    {
      "cell_type": "code",
      "source": [
        "student_lst1=[98,90,87,80,76,70,65,60,54,50,43,40]\n",
        "for i in student_lst1:\n",
        "  print('percetage',i)\n",
        "  if i >=85:\n",
        "    print('Passed with First Class Distinction')\n",
        "  elif i >=60:\n",
        "    print('Passes with First ')\n",
        "  elif i >=40:\n",
        "    print('Passes with Second class ')\n",
        "  else:\n",
        "    print('Better Luck Next time')\n",
        ""
      ],
      "metadata": {
        "id": "DpqphRssI9fc"
      },
      "execution_count": null,
      "outputs": []
    },
    {
      "cell_type": "code",
      "source": [
        "for i in range(10): #0,1\n",
        "  for j in range(10): #0..9,0...9,\n",
        "    print('*',end =' ')\n",
        "  print('\\n')"
      ],
      "metadata": {
        "colab": {
          "base_uri": "https://localhost:8080/"
        },
        "id": "tz8Jeu8zLwrP",
        "outputId": "5998bff5-0e51-4f33-c2de-6c932c878783"
      },
      "execution_count": 8,
      "outputs": [
        {
          "output_type": "stream",
          "name": "stdout",
          "text": [
            "* * * * * * * * * * \n",
            "\n",
            "* * * * * * * * * * \n",
            "\n",
            "* * * * * * * * * * \n",
            "\n",
            "* * * * * * * * * * \n",
            "\n",
            "* * * * * * * * * * \n",
            "\n",
            "* * * * * * * * * * \n",
            "\n",
            "* * * * * * * * * * \n",
            "\n",
            "* * * * * * * * * * \n",
            "\n",
            "* * * * * * * * * * \n",
            "\n",
            "* * * * * * * * * * \n",
            "\n"
          ]
        }
      ]
    },
    {
      "cell_type": "code",
      "source": [
        "for i in range(10):\n",
        "  for j in range(i+1):\n",
        "    print('*',end =' ')\n",
        "  print('')\n",
        "\n",
        ""
      ],
      "metadata": {
        "colab": {
          "base_uri": "https://localhost:8080/"
        },
        "id": "_7P2wSsMNoGb",
        "outputId": "ff954837-fd38-4e13-cba0-9503ad39c008"
      },
      "execution_count": 26,
      "outputs": [
        {
          "output_type": "stream",
          "name": "stdout",
          "text": [
            "* \n",
            "* * \n",
            "* * * \n",
            "* * * * \n",
            "* * * * * \n",
            "* * * * * * \n",
            "* * * * * * * \n",
            "* * * * * * * * \n",
            "* * * * * * * * * \n",
            "* * * * * * * * * * \n"
          ]
        }
      ]
    },
    {
      "cell_type": "code",
      "source": [
        "for i in range(10): #0..9\n",
        "  for j in range(10-i): # 10..1\n",
        "    print('',end =' ')\n",
        "  for k in range(i+1):\n",
        "    print('*',end=' ')\n",
        "  print('')\n",
        "\n",
        ""
      ],
      "metadata": {
        "colab": {
          "base_uri": "https://localhost:8080/"
        },
        "id": "_O6cmpGDQYpO",
        "outputId": "d339f717-f716-4a84-8ae2-da305f26f7b4"
      },
      "execution_count": 36,
      "outputs": [
        {
          "output_type": "stream",
          "name": "stdout",
          "text": [
            "          * \n",
            "         * * \n",
            "        * * * \n",
            "       * * * * \n",
            "      * * * * * \n",
            "     * * * * * * \n",
            "    * * * * * * * \n",
            "   * * * * * * * * \n",
            "  * * * * * * * * * \n",
            " * * * * * * * * * * \n"
          ]
        }
      ]
    },
    {
      "cell_type": "code",
      "source": [
        "for i in range(10):\n",
        "  for j in range(10-i):\n",
        "    print('', end=' ')\n",
        "  for k in range(i+1):\n",
        "    print('*',end=' ')\n",
        "  print('')"
      ],
      "metadata": {
        "colab": {
          "base_uri": "https://localhost:8080/"
        },
        "id": "igNp-Hh6TGX7",
        "outputId": "66407639-6897-420d-fc27-b57504c7ceaf"
      },
      "execution_count": 45,
      "outputs": [
        {
          "output_type": "stream",
          "name": "stdout",
          "text": [
            "          * \n",
            "         * * \n",
            "        * * * \n",
            "       * * * * \n",
            "      * * * * * \n",
            "     * * * * * * \n",
            "    * * * * * * * \n",
            "   * * * * * * * * \n",
            "  * * * * * * * * * \n",
            " * * * * * * * * * * \n"
          ]
        }
      ]
    },
    {
      "cell_type": "code",
      "source": [
        "from os import supports_bytes_environ\n",
        "student_name =['Ram','Shyam','Shiv','Shankar']\n",
        "student_sub = ['Eng','Math','Science','So.Sci','PT']\n",
        "student_marks_1=[[98,87,76,65,54],\n",
        "                [45,54,56,57,78],\n",
        "                [78,76,78,79,75],\n",
        "                 [56,56,67,78,89]\n",
        "                 ]\n",
        "\n",
        "\n",
        "for i in student_name:\n",
        "  sub_tot=0\n",
        "  for j in student_marks_1:\n",
        "    sub_tot +=j\n",
        "  print(i, 'achieved',sub_tot,'marks.')"
      ],
      "metadata": {
        "colab": {
          "base_uri": "https://localhost:8080/"
        },
        "id": "u5SzQeYhI9cu",
        "outputId": "e02ffe98-2729-4671-84bf-3f31b191da77"
      },
      "execution_count": 4,
      "outputs": [
        {
          "output_type": "stream",
          "name": "stdout",
          "text": [
            "Ram achieved 380 marks.\n"
          ]
        }
      ]
    },
    {
      "cell_type": "code",
      "source": [
        "i = 0\n",
        "while i <10:\n",
        "  j = 0\n",
        "  while j < 10:\n",
        "   print('*' , end =' ')\n",
        "   j+=1\n",
        "  print('')\n",
        "  i+=1"
      ],
      "metadata": {
        "colab": {
          "base_uri": "https://localhost:8080/"
        },
        "id": "S0CknwtwI9ak",
        "outputId": "bf0bc396-a4cd-48b7-b16c-eec661bf5512"
      },
      "execution_count": 63,
      "outputs": [
        {
          "output_type": "stream",
          "name": "stdout",
          "text": [
            "* * * * * * * * * * \n",
            "* * * * * * * * * * \n",
            "* * * * * * * * * * \n",
            "* * * * * * * * * * \n",
            "* * * * * * * * * * \n",
            "* * * * * * * * * * \n",
            "* * * * * * * * * * \n",
            "* * * * * * * * * * \n",
            "* * * * * * * * * * \n",
            "* * * * * * * * * * \n"
          ]
        }
      ]
    },
    {
      "cell_type": "code",
      "source": [
        "i = 0\n",
        "while i <10:\n",
        "  j = 0\n",
        "  while j < 20:\n",
        "   print('*' , end =' ')\n",
        "   j+=1\n",
        "  print('')\n",
        "  i+=1"
      ],
      "metadata": {
        "colab": {
          "base_uri": "https://localhost:8080/"
        },
        "id": "iQuLzIABI9YB",
        "outputId": "24b54103-f09f-4f9d-8aa3-c33c90521281"
      },
      "execution_count": 64,
      "outputs": [
        {
          "output_type": "stream",
          "name": "stdout",
          "text": [
            "* * * * * * * * * * * * * * * * * * * * \n",
            "* * * * * * * * * * * * * * * * * * * * \n",
            "* * * * * * * * * * * * * * * * * * * * \n",
            "* * * * * * * * * * * * * * * * * * * * \n",
            "* * * * * * * * * * * * * * * * * * * * \n",
            "* * * * * * * * * * * * * * * * * * * * \n",
            "* * * * * * * * * * * * * * * * * * * * \n",
            "* * * * * * * * * * * * * * * * * * * * \n",
            "* * * * * * * * * * * * * * * * * * * * \n",
            "* * * * * * * * * * * * * * * * * * * * \n"
          ]
        }
      ]
    },
    {
      "cell_type": "code",
      "source": [
        "i = 0\n",
        "while i <10:\n",
        "  j = 0\n",
        "  while j < i+1:\n",
        "   print('*' , end =' ')\n",
        "   j+=1\n",
        "  print('')\n",
        "  i+=1"
      ],
      "metadata": {
        "colab": {
          "base_uri": "https://localhost:8080/"
        },
        "id": "ci8r0ZyDI9Vs",
        "outputId": "22bc8063-2842-49e2-e2c7-fead8799fd96"
      },
      "execution_count": 65,
      "outputs": [
        {
          "output_type": "stream",
          "name": "stdout",
          "text": [
            "* \n",
            "* * \n",
            "* * * \n",
            "* * * * \n",
            "* * * * * \n",
            "* * * * * * \n",
            "* * * * * * * \n",
            "* * * * * * * * \n",
            "* * * * * * * * * \n",
            "* * * * * * * * * * \n"
          ]
        }
      ]
    },
    {
      "cell_type": "code",
      "source": [
        "i = 0\n",
        "while i <10:\n",
        "  j = 0\n",
        "  while j < 10-i\n",
        "  while j < i+1:\n",
        "   print('*' , end =' ')\n",
        "   j+=1\n",
        "  print('')\n",
        "  i+=1"
      ],
      "metadata": {
        "id": "K81hrBxfI9Tn"
      },
      "execution_count": null,
      "outputs": []
    },
    {
      "cell_type": "code",
      "source": [
        "i = 0\n",
        "\n",
        "while i < 10:\n",
        "\n",
        "    j=0\n",
        "    while j < 10:\n",
        "\n",
        "        print('[',i,'-',j ,']', end='')\n",
        "        j+=1\n",
        "    print()\n",
        "    i+=1\n",
        "\n",
        ""
      ],
      "metadata": {
        "colab": {
          "base_uri": "https://localhost:8080/"
        },
        "id": "S48Al1iTI9RQ",
        "outputId": "7690f71b-2fcc-4c22-a360-013fb140a39d"
      },
      "execution_count": 92,
      "outputs": [
        {
          "output_type": "stream",
          "name": "stdout",
          "text": [
            "[ 0 - 0 ][ 0 - 1 ][ 0 - 2 ][ 0 - 3 ][ 0 - 4 ][ 0 - 5 ][ 0 - 6 ][ 0 - 7 ][ 0 - 8 ][ 0 - 9 ]\n",
            "[ 1 - 0 ][ 1 - 1 ][ 1 - 2 ][ 1 - 3 ][ 1 - 4 ][ 1 - 5 ][ 1 - 6 ][ 1 - 7 ][ 1 - 8 ][ 1 - 9 ]\n",
            "[ 2 - 0 ][ 2 - 1 ][ 2 - 2 ][ 2 - 3 ][ 2 - 4 ][ 2 - 5 ][ 2 - 6 ][ 2 - 7 ][ 2 - 8 ][ 2 - 9 ]\n",
            "[ 3 - 0 ][ 3 - 1 ][ 3 - 2 ][ 3 - 3 ][ 3 - 4 ][ 3 - 5 ][ 3 - 6 ][ 3 - 7 ][ 3 - 8 ][ 3 - 9 ]\n",
            "[ 4 - 0 ][ 4 - 1 ][ 4 - 2 ][ 4 - 3 ][ 4 - 4 ][ 4 - 5 ][ 4 - 6 ][ 4 - 7 ][ 4 - 8 ][ 4 - 9 ]\n",
            "[ 5 - 0 ][ 5 - 1 ][ 5 - 2 ][ 5 - 3 ][ 5 - 4 ][ 5 - 5 ][ 5 - 6 ][ 5 - 7 ][ 5 - 8 ][ 5 - 9 ]\n",
            "[ 6 - 0 ][ 6 - 1 ][ 6 - 2 ][ 6 - 3 ][ 6 - 4 ][ 6 - 5 ][ 6 - 6 ][ 6 - 7 ][ 6 - 8 ][ 6 - 9 ]\n",
            "[ 7 - 0 ][ 7 - 1 ][ 7 - 2 ][ 7 - 3 ][ 7 - 4 ][ 7 - 5 ][ 7 - 6 ][ 7 - 7 ][ 7 - 8 ][ 7 - 9 ]\n",
            "[ 8 - 0 ][ 8 - 1 ][ 8 - 2 ][ 8 - 3 ][ 8 - 4 ][ 8 - 5 ][ 8 - 6 ][ 8 - 7 ][ 8 - 8 ][ 8 - 9 ]\n",
            "[ 9 - 0 ][ 9 - 1 ][ 9 - 2 ][ 9 - 3 ][ 9 - 4 ][ 9 - 5 ][ 9 - 6 ][ 9 - 7 ][ 9 - 8 ][ 9 - 9 ]\n"
          ]
        }
      ]
    },
    {
      "cell_type": "code",
      "source": [],
      "metadata": {
        "id": "GWsWrj1SI9Pa"
      },
      "execution_count": null,
      "outputs": []
    },
    {
      "cell_type": "code",
      "source": [],
      "metadata": {
        "id": "MJQZBc5OI9Mh"
      },
      "execution_count": null,
      "outputs": []
    },
    {
      "cell_type": "code",
      "source": [],
      "metadata": {
        "id": "jgisT16GI9J7"
      },
      "execution_count": null,
      "outputs": []
    },
    {
      "cell_type": "code",
      "source": [],
      "metadata": {
        "id": "0HNqcygiI9IH"
      },
      "execution_count": null,
      "outputs": []
    },
    {
      "cell_type": "code",
      "source": [],
      "metadata": {
        "id": "10cnBM-oI9GZ"
      },
      "execution_count": null,
      "outputs": []
    },
    {
      "cell_type": "code",
      "source": [],
      "metadata": {
        "id": "4ka7yMhwI9Ew"
      },
      "execution_count": null,
      "outputs": []
    },
    {
      "cell_type": "code",
      "source": [],
      "metadata": {
        "id": "3hmccqlXI9B4"
      },
      "execution_count": null,
      "outputs": []
    },
    {
      "cell_type": "code",
      "source": [],
      "metadata": {
        "id": "i5jxpa5JI8_J"
      },
      "execution_count": null,
      "outputs": []
    },
    {
      "cell_type": "code",
      "source": [],
      "metadata": {
        "id": "diRBJgUdI87K"
      },
      "execution_count": null,
      "outputs": []
    },
    {
      "cell_type": "code",
      "source": [],
      "metadata": {
        "id": "_YXG-DeUI84k"
      },
      "execution_count": null,
      "outputs": []
    },
    {
      "cell_type": "code",
      "source": [],
      "metadata": {
        "id": "g3EfjGoPI82J"
      },
      "execution_count": null,
      "outputs": []
    },
    {
      "cell_type": "code",
      "source": [],
      "metadata": {
        "id": "2A_peEYQI8zh"
      },
      "execution_count": null,
      "outputs": []
    },
    {
      "cell_type": "code",
      "source": [],
      "metadata": {
        "id": "uernoPmdI8w8"
      },
      "execution_count": null,
      "outputs": []
    },
    {
      "cell_type": "code",
      "source": [],
      "metadata": {
        "id": "BBcRHwQjI8uP"
      },
      "execution_count": null,
      "outputs": []
    },
    {
      "cell_type": "code",
      "source": [],
      "metadata": {
        "id": "Yyde22XNI8r5"
      },
      "execution_count": null,
      "outputs": []
    },
    {
      "cell_type": "code",
      "source": [],
      "metadata": {
        "id": "p4EnFU2oI8pT"
      },
      "execution_count": null,
      "outputs": []
    },
    {
      "cell_type": "code",
      "source": [],
      "metadata": {
        "id": "odXgvr1cI8ms"
      },
      "execution_count": null,
      "outputs": []
    }
  ]
}