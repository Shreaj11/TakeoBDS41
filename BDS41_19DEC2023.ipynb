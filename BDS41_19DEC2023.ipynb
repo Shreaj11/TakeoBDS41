{
  "nbformat": 4,
  "nbformat_minor": 0,
  "metadata": {
    "colab": {
      "provenance": [],
      "authorship_tag": "ABX9TyNJVVqbfJ/UPWuJ5Xsk5YYR",
      "include_colab_link": true
    },
    "kernelspec": {
      "name": "python3",
      "display_name": "Python 3"
    },
    "language_info": {
      "name": "python"
    }
  },
  "cells": [
    {
      "cell_type": "markdown",
      "metadata": {
        "id": "view-in-github",
        "colab_type": "text"
      },
      "source": [
        "<a href=\"https://colab.research.google.com/github/Shreaj11/TakeoBDS41/blob/main/BDS41_19DEC2023.ipynb\" target=\"_parent\"><img src=\"https://colab.research.google.com/assets/colab-badge.svg\" alt=\"Open In Colab\"/></a>"
      ]
    },
    {
      "cell_type": "markdown",
      "source": [
        "# Object Oriented Programming"
      ],
      "metadata": {
        "id": "XCsnKyoJ0WnN"
      }
    },
    {
      "cell_type": "code",
      "execution_count": 1,
      "metadata": {
        "colab": {
          "base_uri": "https://localhost:8080/"
        },
        "id": "oKNlrLU_0QC5",
        "outputId": "9372be5c-cd6f-4024-cdb1-a5635ca98df5"
      },
      "outputs": [
        {
          "output_type": "stream",
          "name": "stdout",
          "text": [
            "<class 'int'>\n"
          ]
        }
      ],
      "source": [
        "a = 10 #'a' is object; this is instance of class 'int'\n",
        "print(type(a))"
      ]
    },
    {
      "cell_type": "code",
      "source": [
        "str1 = 'python Programming' # 'str1' is object; this is instance of class 'str'\n",
        "print(type(str1))"
      ],
      "metadata": {
        "colab": {
          "base_uri": "https://localhost:8080/"
        },
        "id": "R-h5KWeG0dP_",
        "outputId": "45bc3a4e-ae5b-40a1-d4c5-c36fa6bc8a67"
      },
      "execution_count": 2,
      "outputs": [
        {
          "output_type": "stream",
          "name": "stdout",
          "text": [
            "<class 'str'>\n"
          ]
        }
      ]
    },
    {
      "cell_type": "code",
      "source": [
        "lst1 = [1,2,3,4,5,6,7,8,9,10,11,12]\n",
        "print(type(lst1))"
      ],
      "metadata": {
        "colab": {
          "base_uri": "https://localhost:8080/"
        },
        "id": "GZ4Ce9ja0dYW",
        "outputId": "52f63dfd-9a60-4376-f038-985a96c23202"
      },
      "execution_count": 3,
      "outputs": [
        {
          "output_type": "stream",
          "name": "stdout",
          "text": [
            "<class 'list'>\n"
          ]
        }
      ]
    },
    {
      "cell_type": "code",
      "source": [
        "class iphone77:\n",
        "    pass\n"
      ],
      "metadata": {
        "id": "qZPK6cSc0dbD"
      },
      "execution_count": 4,
      "outputs": []
    },
    {
      "cell_type": "code",
      "source": [
        "obj1_iphone77 = iphone77()"
      ],
      "metadata": {
        "id": "NyiZ51-20ddy"
      },
      "execution_count": 5,
      "outputs": []
    },
    {
      "cell_type": "code",
      "source": [],
      "metadata": {
        "id": "Wa0lSgOa3w7i"
      },
      "execution_count": null,
      "outputs": []
    },
    {
      "cell_type": "code",
      "source": [],
      "metadata": {
        "id": "1S_nGQoO3wwa"
      },
      "execution_count": null,
      "outputs": []
    },
    {
      "cell_type": "code",
      "source": [
        "print(type(obj1_iphone77))"
      ],
      "metadata": {
        "colab": {
          "base_uri": "https://localhost:8080/"
        },
        "id": "rYi3NRYk0dgN",
        "outputId": "6658696a-86ca-4b39-c0bd-9544e396cadd"
      },
      "execution_count": 6,
      "outputs": [
        {
          "output_type": "stream",
          "name": "stdout",
          "text": [
            "<class '__main__.iphone77'>\n"
          ]
        }
      ]
    },
    {
      "cell_type": "code",
      "source": [
        "obj11_iphone77 = iphone77()\n",
        "obj12_iphone77 = iphone77()\n",
        "obj13_iphone77 = iphone77()\n",
        "obj14_iphone77 = iphone77()\n",
        "obj15_iphone77 = iphone77()\n",
        "obj16_iphone77 = iphone77()\n",
        "obj17_iphone77 = iphone77()\n",
        "obj18_iphone77 = iphone77()\n",
        "obj19_iphone77 = iphone77()\n",
        "obj20_iphone77 = iphone77()"
      ],
      "metadata": {
        "id": "U6NKHBgO0dq4"
      },
      "execution_count": 10,
      "outputs": []
    },
    {
      "cell_type": "code",
      "source": [
        "print(type(obj11_iphone77))\n",
        "print(type(obj12_iphone77))\n",
        "print(type(obj13_iphone77))\n",
        "print(type(obj14_iphone77))\n",
        "print(type(obj15_iphone77))\n",
        "print(type(obj16_iphone77))\n",
        "print(type(obj17_iphone77))\n",
        "print(type(obj18_iphone77))\n",
        "print(type(obj19_iphone77))\n",
        "print(type(obj20_iphone77))\n"
      ],
      "metadata": {
        "colab": {
          "base_uri": "https://localhost:8080/"
        },
        "id": "f8dJhhFy0dt_",
        "outputId": "7ba54d75-151e-47f1-eb36-3f28e3543933"
      },
      "execution_count": 11,
      "outputs": [
        {
          "output_type": "stream",
          "name": "stdout",
          "text": [
            "<class '__main__.iphone77'>\n",
            "<class '__main__.iphone77'>\n",
            "<class '__main__.iphone77'>\n",
            "<class '__main__.iphone77'>\n",
            "<class '__main__.iphone77'>\n",
            "<class '__main__.iphone77'>\n",
            "<class '__main__.iphone77'>\n",
            "<class '__main__.iphone77'>\n",
            "<class '__main__.iphone77'>\n",
            "<class '__main__.iphone77'>\n"
          ]
        }
      ]
    },
    {
      "cell_type": "code",
      "source": [
        "class House:\n",
        "    pass\n"
      ],
      "metadata": {
        "id": "ZuGNFtuN0dwb"
      },
      "execution_count": 12,
      "outputs": []
    },
    {
      "cell_type": "code",
      "source": [
        "obj1_House = House()\n",
        "obj2_House = House()\n",
        "obj3_House = House()"
      ],
      "metadata": {
        "id": "HakvAWZo0dyz"
      },
      "execution_count": 18,
      "outputs": []
    },
    {
      "cell_type": "code",
      "source": [
        "print(type(obj1_House))\n",
        "print(type(obj2_House))\n",
        "print(type(obj3_House))"
      ],
      "metadata": {
        "colab": {
          "base_uri": "https://localhost:8080/"
        },
        "id": "pxflxijA0d1h",
        "outputId": "862fc62b-33a8-486c-a499-70dd201ba59d"
      },
      "execution_count": 19,
      "outputs": [
        {
          "output_type": "stream",
          "name": "stdout",
          "text": [
            "<class '__main__.House'>\n",
            "<class '__main__.House'>\n",
            "<class '__main__.House'>\n"
          ]
        }
      ]
    },
    {
      "cell_type": "code",
      "source": [
        "class iphone77:\n",
        "    os = 'io'\n",
        "    ram = 64\n",
        "    processor = 'x10'\n",
        "    space = '2 TB'"
      ],
      "metadata": {
        "id": "3Zp4lBi20d3q"
      },
      "execution_count": 22,
      "outputs": []
    },
    {
      "cell_type": "code",
      "source": [
        "obj11_iphone77 = iphone77()\n",
        "obj12_iphone77 = iphone77()\n",
        "obj13_iphone77 = iphone77()\n",
        "obj14_iphone77 = iphone77()\n",
        "obj15_iphone77 = iphone77()\n",
        "obj16_iphone77 = iphone77()\n",
        "obj17_iphone77 = iphone77()\n",
        "obj18_iphone77 = iphone77()\n",
        "obj19_iphone77 = iphone77()\n",
        "obj20_iphone77 = iphone77()"
      ],
      "metadata": {
        "id": "CyGX-fO46aWV"
      },
      "execution_count": 24,
      "outputs": []
    },
    {
      "cell_type": "code",
      "source": [
        "obj11_iphone77.os"
      ],
      "metadata": {
        "colab": {
          "base_uri": "https://localhost:8080/",
          "height": 35
        },
        "id": "jowmSZSX0d6F",
        "outputId": "c80fef87-d32f-444f-c139-5fed218781bb"
      },
      "execution_count": 25,
      "outputs": [
        {
          "output_type": "execute_result",
          "data": {
            "text/plain": [
              "'io'"
            ],
            "application/vnd.google.colaboratory.intrinsic+json": {
              "type": "string"
            }
          },
          "metadata": {},
          "execution_count": 25
        }
      ]
    },
    {
      "cell_type": "code",
      "source": [
        "obj11_iphone77.ram"
      ],
      "metadata": {
        "colab": {
          "base_uri": "https://localhost:8080/"
        },
        "id": "TCexlDFu0eHp",
        "outputId": "850922a6-3177-43b0-930a-9a1557051fa6"
      },
      "execution_count": 26,
      "outputs": [
        {
          "output_type": "execute_result",
          "data": {
            "text/plain": [
              "64"
            ]
          },
          "metadata": {},
          "execution_count": 26
        }
      ]
    },
    {
      "cell_type": "code",
      "source": [
        "obj11_iphone77.processor"
      ],
      "metadata": {
        "colab": {
          "base_uri": "https://localhost:8080/",
          "height": 35
        },
        "id": "kp7_h5jM0eKo",
        "outputId": "c7cf75be-b2bd-4d9b-97eb-09a9f1665903"
      },
      "execution_count": 27,
      "outputs": [
        {
          "output_type": "execute_result",
          "data": {
            "text/plain": [
              "'x10'"
            ],
            "application/vnd.google.colaboratory.intrinsic+json": {
              "type": "string"
            }
          },
          "metadata": {},
          "execution_count": 27
        }
      ]
    },
    {
      "cell_type": "code",
      "source": [
        "obj11_iphone77.space"
      ],
      "metadata": {
        "colab": {
          "base_uri": "https://localhost:8080/",
          "height": 35
        },
        "id": "f-C4gApq0eNN",
        "outputId": "a98b165d-2289-411e-93d2-6d85eb24ab24"
      },
      "execution_count": 28,
      "outputs": [
        {
          "output_type": "execute_result",
          "data": {
            "text/plain": [
              "'2 TB'"
            ],
            "application/vnd.google.colaboratory.intrinsic+json": {
              "type": "string"
            }
          },
          "metadata": {},
          "execution_count": 28
        }
      ]
    },
    {
      "cell_type": "code",
      "source": [
        "class House:\n",
        "    color ='white'\n",
        "    no_of_room = 5\n",
        "    storey = 2"
      ],
      "metadata": {
        "id": "hVFSJ0FI0eP5"
      },
      "execution_count": 34,
      "outputs": []
    },
    {
      "cell_type": "code",
      "source": [
        "obj1_House = House()\n",
        "obj2_House = House()\n",
        "obj3_House = House()"
      ],
      "metadata": {
        "id": "AsUySJ1H0eSR"
      },
      "execution_count": 36,
      "outputs": []
    },
    {
      "cell_type": "code",
      "source": [
        "obj1_House.color"
      ],
      "metadata": {
        "colab": {
          "base_uri": "https://localhost:8080/",
          "height": 35
        },
        "id": "CX_QEgE30eVF",
        "outputId": "5b40417d-803f-421f-cb68-ffd5c7949fcf"
      },
      "execution_count": 31,
      "outputs": [
        {
          "output_type": "execute_result",
          "data": {
            "text/plain": [
              "'white'"
            ],
            "application/vnd.google.colaboratory.intrinsic+json": {
              "type": "string"
            }
          },
          "metadata": {},
          "execution_count": 31
        }
      ]
    },
    {
      "cell_type": "code",
      "source": [
        "obj1_House.no_of_room"
      ],
      "metadata": {
        "colab": {
          "base_uri": "https://localhost:8080/"
        },
        "id": "n1bIMj4t0efk",
        "outputId": "e2f0343f-7412-471f-f9aa-bce738626fc4"
      },
      "execution_count": 32,
      "outputs": [
        {
          "output_type": "execute_result",
          "data": {
            "text/plain": [
              "5"
            ]
          },
          "metadata": {},
          "execution_count": 32
        }
      ]
    },
    {
      "cell_type": "code",
      "source": [
        "obj1_House.storey"
      ],
      "metadata": {
        "colab": {
          "base_uri": "https://localhost:8080/"
        },
        "id": "4z3mvAj10eiG",
        "outputId": "f7eeb667-9cb0-48a0-e7b3-0d311992266d"
      },
      "execution_count": 37,
      "outputs": [
        {
          "output_type": "execute_result",
          "data": {
            "text/plain": [
              "2"
            ]
          },
          "metadata": {},
          "execution_count": 37
        }
      ]
    },
    {
      "cell_type": "markdown",
      "source": [
        "Supervised learning is a type of machine learning where an algorithm is\n",
        "trained on a labeled dataset, which means that each input data point is\n",
        "associated with a corresponding output label. The goal of supervised\n",
        "learning is for the algorithm to learn the mapping from input to output,\n",
        "allowing it to make predictions or decisions on new, unseen data.\n",
        "\n",
        "Here are 10 examples of supervised learning:\n",
        "\n",
        "Image Classification:\n",
        "\n",
        "Task: Classify images into predefined categories (e.g., cat or dog).\n",
        "Example: Training a model to distinguish between different types of fruits in images.\n",
        "\n",
        "Speech Recognition:\n",
        "\n",
        "Task: Recognize spoken words or phrases.\n",
        "Example: Training a system to transcribe spoken words into written text.\n",
        "\n",
        "Text Classification:\n",
        "\n",
        "Task: Categorize text documents into predefined classes or topics.\n",
        "Example: Spam email detection, sentiment analysis in customer reviews.\n",
        "\n",
        "Handwriting Recognition:\n",
        "\n",
        "Task: Identify and interpret handwritten characters.\n",
        "Example: Teaching a model to recognize handwritten digits in postal codes.\n",
        "\n",
        "Predictive Maintenance:\n",
        "\n",
        "Task: Predict when equipment or machinery is likely to fail.\n",
        "Example: Monitoring and predicting the remaining lifespan of a machine based on usage patterns.\n",
        "\n",
        "Credit Scoring:\n",
        "\n",
        "Task: Assess the creditworthiness of an individual based on various factors.\n",
        "Example: Predicting whether a loan applicant is likely to default on a loan.\n",
        "\n",
        "Recommendation Systems:\n",
        "\n",
        "Task: Provide personalized recommendations to users.\n",
        "Example: Recommending movies, products, or songs based on a user's previous preferences.\n",
        "\n",
        "Medical Diagnosis:\n",
        "\n",
        "Task: Diagnose diseases or conditions based on patient data.\n",
        "Example: Predicting whether a patient has a particular disease based on symptoms and test results.\n",
        "\n",
        "Stock Price Prediction:\n",
        "\n",
        "Task: Forecast future stock prices based on historical data.\n",
        "Example: Building a model to predict the closing price of a stock based on past market trends.\n",
        "\n",
        "Language Translation:\n",
        "\n",
        "Task: Translate text from one language to another.\n",
        "Example: Training a model to translate English sentences into French or vice versa.\n",
        "\n",
        "In each of these examples, the algorithm learns from labeled data to make predictions\n",
        "or decisions when presented with new, unseen data. The quality of the predictions is\n",
        "evaluated based on the accuracy of the model's outputs compared to the true labels\n",
        "in the training data."
      ],
      "metadata": {
        "id": "H7sBQ-Q9H0hn"
      }
    },
    {
      "cell_type": "code",
      "source": [],
      "metadata": {
        "id": "bYpNsbx5IHNu"
      },
      "execution_count": null,
      "outputs": []
    },
    {
      "cell_type": "markdown",
      "source": [
        "what is unsupervised learning? explain with 10 examples\n",
        "\n",
        "Unsupervised learning is a type of machine learning where the algorithm is trained on unlabeled data, and the objective is to find patterns, relationships, or structures within the data without explicit guidance in the form of labeled outcomes. Here are 10 examples of unsupervised learning:\n",
        "\n",
        "Clustering:\n",
        "\n",
        "Task: Group similar data points together based on inherent patterns.\n",
        "Example: Grouping customers based on their purchasing behavior without predefined categories.\n",
        "Dimensionality Reduction:\n",
        "\n",
        "Task: Reduce the number of features while preserving relevant information.\n",
        "Example: Using techniques like Principal Component Analysis (PCA) to reduce the dimensions of a dataset.\n",
        "Association Rule Mining:\n",
        "\n",
        "Task: Discover relationships between variables in a dataset.\n",
        "Example: Identifying associations between products frequently purchased together in retail transactions.\n",
        "Anomaly Detection:\n",
        "\n",
        "Task: Identify instances that deviate from the norm in a dataset.\n",
        "Example: Detecting fraudulent transactions or faulty components in manufacturing.\n",
        "\n",
        "Density Estimation:\n",
        "\n",
        "Task: Estimate the probability distribution of the data.\n",
        "Example: Modeling the distribution of pixel intensities in an image.\n",
        "\n",
        "Generative Modeling:\n",
        "\n",
        "Task: Generate new data samples similar to the training set.\n",
        "Example: Creating realistic images or text based on the patterns learned from a dataset.\n",
        "\n",
        "Principal Component Analysis (PCA):\n",
        "\n",
        "Task: Transform the original features into a new set of uncorrelated variables (principal components).\n",
        "Example: Reducing the dimensionality of a dataset for visualization or further analysis.\n",
        "\n",
        "K-Means Clustering:\n",
        "\n",
        "Task: Partition data into k clusters based on similarity.\n",
        "Example: Segmenting customers into groups for targeted marketing strategies.\n",
        "Hierarchical Clustering:\n",
        "\n",
        "Task: Build a hierarchy of clusters to represent the relationships between data points.\n",
        "Example: Creating a dendrogram to visualize the hierarchical structure of species based on genetic similarities.\n",
        "\n",
        "Word Embeddings:\n",
        "\n",
        "Task: Represent words as vectors in a continuous vector space.\n",
        "Example: Learning word embeddings using algorithms like Word2Vec or GloVe to capture semantic relationships between words.\n",
        "\n",
        "Self-Organizing Maps (SOM):\n",
        "\n",
        "Task: Organize high-dimensional data onto a lower-dimensional grid while preserving neighborhood relationships.\n",
        "Example: Visualizing and organizing colors based on their similarity in a two-dimensional map.\n",
        "\n",
        "Market Basket Analysis:\n",
        "\n",
        "Task: Discover associations between products in transactional data.\n",
        "Example: Analyzing grocery store transactions to find patterns in products frequently purchased together.\n",
        "Unsupervised learning is particularly useful for exploring and understanding the inherent structure of data when labeled outcomes are not available or when the goal is to uncover hidden patterns and insights within the data."
      ],
      "metadata": {
        "id": "8lvOOXGGH577"
      }
    },
    {
      "cell_type": "code",
      "source": [],
      "metadata": {
        "id": "ns1e00kI0eko"
      },
      "execution_count": null,
      "outputs": []
    },
    {
      "cell_type": "code",
      "source": [],
      "metadata": {
        "id": "TzGHS2vy0enQ"
      },
      "execution_count": null,
      "outputs": []
    },
    {
      "cell_type": "code",
      "source": [],
      "metadata": {
        "id": "8z7lQZkG0epZ"
      },
      "execution_count": null,
      "outputs": []
    },
    {
      "cell_type": "code",
      "source": [],
      "metadata": {
        "id": "qG6kR6yl0esO"
      },
      "execution_count": null,
      "outputs": []
    },
    {
      "cell_type": "code",
      "source": [],
      "metadata": {
        "id": "BjC3mQ3G0eua"
      },
      "execution_count": null,
      "outputs": []
    },
    {
      "cell_type": "code",
      "source": [],
      "metadata": {
        "id": "8HRLBlxK0exd"
      },
      "execution_count": null,
      "outputs": []
    },
    {
      "cell_type": "code",
      "source": [],
      "metadata": {
        "id": "BHhoK6aU0e0B"
      },
      "execution_count": null,
      "outputs": []
    },
    {
      "cell_type": "code",
      "source": [],
      "metadata": {
        "id": "u8dEpsoI0e2i"
      },
      "execution_count": null,
      "outputs": []
    },
    {
      "cell_type": "code",
      "source": [],
      "metadata": {
        "id": "r3Vk58iC0e5s"
      },
      "execution_count": null,
      "outputs": []
    },
    {
      "cell_type": "code",
      "source": [],
      "metadata": {
        "id": "xbdxQZvk0fGF"
      },
      "execution_count": null,
      "outputs": []
    },
    {
      "cell_type": "code",
      "source": [],
      "metadata": {
        "id": "_ifpxx0r0fI4"
      },
      "execution_count": null,
      "outputs": []
    },
    {
      "cell_type": "code",
      "source": [],
      "metadata": {
        "id": "tbzaHeDW0fLn"
      },
      "execution_count": null,
      "outputs": []
    },
    {
      "cell_type": "code",
      "source": [],
      "metadata": {
        "id": "HnTjXgqE0fOT"
      },
      "execution_count": null,
      "outputs": []
    },
    {
      "cell_type": "code",
      "source": [],
      "metadata": {
        "id": "my6oHnrN0fQz"
      },
      "execution_count": null,
      "outputs": []
    },
    {
      "cell_type": "code",
      "source": [],
      "metadata": {
        "id": "A8JXXljV0fTe"
      },
      "execution_count": null,
      "outputs": []
    },
    {
      "cell_type": "code",
      "source": [],
      "metadata": {
        "id": "nBZbZFCD0fV9"
      },
      "execution_count": null,
      "outputs": []
    }
  ]
}