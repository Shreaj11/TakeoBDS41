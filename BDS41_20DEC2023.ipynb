{
  "nbformat": 4,
  "nbformat_minor": 0,
  "metadata": {
    "colab": {
      "provenance": [],
      "authorship_tag": "ABX9TyOHiXJCClLgETjykETwWz9Q",
      "include_colab_link": true
    },
    "kernelspec": {
      "name": "python3",
      "display_name": "Python 3"
    },
    "language_info": {
      "name": "python"
    }
  },
  "cells": [
    {
      "cell_type": "markdown",
      "metadata": {
        "id": "view-in-github",
        "colab_type": "text"
      },
      "source": [
        "<a href=\"https://colab.research.google.com/github/Shreaj11/TakeoBDS41/blob/main/BDS41_20DEC2023.ipynb\" target=\"_parent\"><img src=\"https://colab.research.google.com/assets/colab-badge.svg\" alt=\"Open In Colab\"/></a>"
      ]
    },
    {
      "cell_type": "markdown",
      "source": [],
      "metadata": {
        "id": "LT7q9zSB60B1"
      }
    },
    {
      "cell_type": "code",
      "execution_count": 1,
      "metadata": {
        "id": "ib_wt3TZ6gCE"
      },
      "outputs": [],
      "source": [
        "class student:\n",
        "    stu_name = 'Anurag'\n",
        "    stu_lname = 'Edlabadkar'\n",
        "    stu_age = 45\n",
        "    stu_gender = 'M'\n",
        "    stu_mobile = 9890781832\n",
        "    stu_email = 'anuurag.edlabadkar@gmail.com'"
      ]
    },
    {
      "cell_type": "code",
      "source": [
        "obj_student1= student()"
      ],
      "metadata": {
        "id": "onrRDHI36i1M"
      },
      "execution_count": 2,
      "outputs": []
    },
    {
      "cell_type": "code",
      "source": [
        "type(obj_student1)"
      ],
      "metadata": {
        "colab": {
          "base_uri": "https://localhost:8080/"
        },
        "id": "DIwiG4H26i4P",
        "outputId": "7439e365-8d5c-44b2-fcc4-a911733b6a04"
      },
      "execution_count": 3,
      "outputs": [
        {
          "output_type": "execute_result",
          "data": {
            "text/plain": [
              "__main__.student"
            ]
          },
          "metadata": {},
          "execution_count": 3
        }
      ]
    },
    {
      "cell_type": "code",
      "source": [
        "obj_student1.stu_name"
      ],
      "metadata": {
        "colab": {
          "base_uri": "https://localhost:8080/",
          "height": 35
        },
        "id": "W3vGrC-26i60",
        "outputId": "6815f702-02a8-4803-e3f8-0e7f5c44aea8"
      },
      "execution_count": 5,
      "outputs": [
        {
          "output_type": "execute_result",
          "data": {
            "text/plain": [
              "'Anurag'"
            ],
            "application/vnd.google.colaboratory.intrinsic+json": {
              "type": "string"
            }
          },
          "metadata": {},
          "execution_count": 5
        }
      ]
    },
    {
      "cell_type": "code",
      "source": [
        "class student:\n",
        "    def __init__(self,stu_name, stu_lname,stu_age,stu_gender,stu_mobile,stu_email):\n",
        "        pass # use pass if you do not write code"
      ],
      "metadata": {
        "id": "sC6f3r_B6i9W"
      },
      "execution_count": 9,
      "outputs": []
    },
    {
      "cell_type": "code",
      "source": [
        "obj_stu1 = student('Anurag','Edlabadkar',45,'M',980781832,'anuurag.edlabadkar@gmail.com')"
      ],
      "metadata": {
        "id": "-ZFSRF556i_z"
      },
      "execution_count": 10,
      "outputs": []
    },
    {
      "cell_type": "code",
      "source": [
        "class student:\n",
        "    def __init__(self,stu_name, stu_lname,stu_age,stu_gender,stu_mobile,stu_email):\n",
        "        self.student_fname = stu_name\n",
        "        self.student_Lname = stu_lname\n",
        "        self.student_age = stu_age\n",
        "        self.student_gender = stu_gender\n",
        "        self.student_mobile = stu_mobile\n",
        "        self.student_email = stu_email\n",
        "    def display_values(self):\n",
        "        print(self.student_fname,self.student_Lname , self.student_age,self.student_gender,self.student_mobile,self.student_email)\n"
      ],
      "metadata": {
        "id": "KEk3iQmY9Hvx"
      },
      "execution_count": 15,
      "outputs": []
    },
    {
      "cell_type": "code",
      "source": [
        "obj_stu1 = student('Anurag','Edlabadkar',45,'M',980781832,'anuurag.edlabadkar@gmail.com')"
      ],
      "metadata": {
        "id": "t4D_MAy99Hrn"
      },
      "execution_count": 14,
      "outputs": []
    },
    {
      "cell_type": "code",
      "source": [
        "obj_stu1.display_values()"
      ],
      "metadata": {
        "colab": {
          "base_uri": "https://localhost:8080/"
        },
        "id": "peEh0fjl6jCP",
        "outputId": "1d2d6036-452a-4cca-d37c-c5c14d28c4cf"
      },
      "execution_count": 16,
      "outputs": [
        {
          "output_type": "stream",
          "name": "stdout",
          "text": [
            "Anurag Edlabadkar 45 M 980781832 anuurag.edlabadkar@gmail.com\n"
          ]
        }
      ]
    },
    {
      "cell_type": "code",
      "source": [
        "class Car:\n",
        "    def __init__(self,make,model,color,year):\n",
        "        self.make=make\n",
        "        self.model = model\n",
        "        self.color =color\n",
        "        self.year = year\n",
        "\n",
        "    def display_val(self):\n",
        "        print('make:',self.make,'model:',self.model,'color:',self.color,'model-Year:',self.year)"
      ],
      "metadata": {
        "id": "MeHBEg316jEh"
      },
      "execution_count": 28,
      "outputs": []
    },
    {
      "cell_type": "code",
      "source": [
        "obj_car1 = Car('Honda','Civic','White',2023)\n",
        "obj_car1.display_val()"
      ],
      "metadata": {
        "colab": {
          "base_uri": "https://localhost:8080/"
        },
        "id": "HGFIy1XI6jHT",
        "outputId": "bec5733c-aad6-4f4d-ee69-75096c6e9103"
      },
      "execution_count": 29,
      "outputs": [
        {
          "output_type": "stream",
          "name": "stdout",
          "text": [
            "make: Honda model: Civic color: White model-Year: 2023\n"
          ]
        }
      ]
    },
    {
      "cell_type": "markdown",
      "source": [
        "**Inheritance**\n"
      ],
      "metadata": {
        "id": "ntuLZIdFGPIg"
      }
    },
    {
      "cell_type": "code",
      "source": [
        "class great_great_great_grand_parents:\n",
        "    pass\n",
        "class great_great_grand_parents(great_great_great_grand_parents):\n",
        "    pass\n",
        "class great_grand_parents(great_great_grand_parents):\n",
        "    pass\n",
        "class grand_parents(great_grand_parents):\n",
        "    pass\n",
        "class parents(grand_parents):\n",
        "    pass\n",
        "class kids(parents):\n",
        "    pass\n",
        "class grand_kids(kids):\n",
        "    pass"
      ],
      "metadata": {
        "id": "nyAtdPlb6jJf"
      },
      "execution_count": null,
      "outputs": []
    },
    {
      "cell_type": "code",
      "source": [
        "class Employee:\n",
        "    pass\n",
        "class Accountant(Employee):\n",
        "    pass\n",
        "class Manager(Accountant):\n",
        "    pass\n",
        "class Senior_Manager(Manager):\n",
        "    pass\n",
        "class Director(Senior_Manager):\n",
        "    pass\n",
        "\n"
      ],
      "metadata": {
        "id": "UgbBxp9g6jLw"
      },
      "execution_count": null,
      "outputs": []
    },
    {
      "cell_type": "code",
      "source": [],
      "metadata": {
        "id": "kO4LxodC6jOE"
      },
      "execution_count": null,
      "outputs": []
    },
    {
      "cell_type": "code",
      "source": [],
      "metadata": {
        "id": "8jfv39Oy6jQo"
      },
      "execution_count": null,
      "outputs": []
    },
    {
      "cell_type": "code",
      "source": [],
      "metadata": {
        "id": "ICRp8KRR6jTK"
      },
      "execution_count": null,
      "outputs": []
    },
    {
      "cell_type": "code",
      "source": [],
      "metadata": {
        "id": "JETLXBKl6jVy"
      },
      "execution_count": null,
      "outputs": []
    },
    {
      "cell_type": "code",
      "source": [],
      "metadata": {
        "id": "klTk53Bf6jYc"
      },
      "execution_count": null,
      "outputs": []
    },
    {
      "cell_type": "code",
      "source": [],
      "metadata": {
        "id": "g-AN8INZ6jan"
      },
      "execution_count": null,
      "outputs": []
    },
    {
      "cell_type": "code",
      "source": [],
      "metadata": {
        "id": "y8SO54Tp6jc7"
      },
      "execution_count": null,
      "outputs": []
    },
    {
      "cell_type": "code",
      "source": [],
      "metadata": {
        "id": "8pSBMULI6jfK"
      },
      "execution_count": null,
      "outputs": []
    },
    {
      "cell_type": "code",
      "source": [],
      "metadata": {
        "id": "P-gU9Uhq6jh4"
      },
      "execution_count": null,
      "outputs": []
    },
    {
      "cell_type": "code",
      "source": [],
      "metadata": {
        "id": "WGsKQWqj6jkH"
      },
      "execution_count": null,
      "outputs": []
    }
  ]
}