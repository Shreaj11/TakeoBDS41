{
  "nbformat": 4,
  "nbformat_minor": 0,
  "metadata": {
    "colab": {
      "provenance": [],
      "authorship_tag": "ABX9TyPCthmm0p37bU0lHOH6Jky+",
      "include_colab_link": true
    },
    "kernelspec": {
      "name": "python3",
      "display_name": "Python 3"
    },
    "language_info": {
      "name": "python"
    }
  },
  "cells": [
    {
      "cell_type": "markdown",
      "metadata": {
        "id": "view-in-github",
        "colab_type": "text"
      },
      "source": [
        "<a href=\"https://colab.research.google.com/github/Shreaj11/TakeoBDS41/blob/main/BDS41_04DEC2023.ipynb\" target=\"_parent\"><img src=\"https://colab.research.google.com/assets/colab-badge.svg\" alt=\"Open In Colab\"/></a>"
      ]
    },
    {
      "cell_type": "markdown",
      "source": [],
      "metadata": {
        "id": "CKQ3nidAwSpT"
      }
    },
    {
      "cell_type": "code",
      "execution_count": null,
      "metadata": {
        "id": "oYl7osdnuHqQ"
      },
      "outputs": [],
      "source": [
        "Day 1\n",
        "Introduction to python\n",
        "Hello World program\n",
        "features of Python\n",
        "variables\n",
        "keywords & Indentifier\n",
        "Dynamically Typed\n",
        "Data Types\n"
      ]
    },
    {
      "cell_type": "code",
      "source": [
        "print('welcome to BDS41- Data Science')"
      ],
      "metadata": {
        "colab": {
          "base_uri": "https://localhost:8080/"
        },
        "id": "Yyvjqje-wA75",
        "outputId": "2cb111ba-e453-4f66-c276-fcd90a3426f6"
      },
      "execution_count": null,
      "outputs": [
        {
          "output_type": "stream",
          "name": "stdout",
          "text": [
            "welcome to BDS41- Data Science\n"
          ]
        }
      ]
    },
    {
      "cell_type": "markdown",
      "source": [
        "What is variable?\n",
        "A container to store data which can be changed.( named memory space)\n",
        "\n",
        "\n"
      ],
      "metadata": {
        "id": "Z0ZNNTOi5aFg"
      }
    },
    {
      "cell_type": "code",
      "source": [
        "print('welcome world')"
      ],
      "metadata": {
        "id": "QarjkYBawU-G"
      },
      "execution_count": null,
      "outputs": []
    },
    {
      "cell_type": "markdown",
      "source": [],
      "metadata": {
        "id": "SMPr-BZc6pKU"
      }
    },
    {
      "cell_type": "code",
      "source": [
        "school_name = 'Shri Shiv Chattrapati Shivaji Maharaj High School'\n",
        "school_location = 'Keshav Nagar'\n",
        "school_city = 'Pune'\n",
        "school_state = 'Maharashtra'"
      ],
      "metadata": {
        "id": "DYiSRPVPw51B"
      },
      "execution_count": null,
      "outputs": []
    },
    {
      "cell_type": "markdown",
      "source": [
        "variable 'school_name ' is name of variable.\n",
        "'Shri Shiv Chattrapati Shivaji Maharaj High School' is value of variable ' school_name"
      ],
      "metadata": {
        "id": "drgseCUP6qMm"
      }
    },
    {
      "cell_type": "code",
      "source": [
        "name ='Anurag Arun Edlabadkar'\n",
        "age = 45\n",
        "gender = 'M'\n",
        "city ='Pune'\n",
        "\n"
      ],
      "metadata": {
        "id": "ySg61Illw7Bq"
      },
      "execution_count": null,
      "outputs": []
    },
    {
      "cell_type": "code",
      "source": [
        "var_name = 'Anurag'\n",
        "print(var_name)\n",
        "print(type(var_name))\n",
        "var_name = 'Arun'\n",
        "print(var_name)\n",
        "print(type(var_name))\n",
        "var_name = 9890781832\n",
        "print(var_name)\n",
        "print(type(var_name))\n",
        "var_name = 'anurag.edlabadkar@gmail.com'\n",
        "print(var_name)\n",
        "print(type(var_name))\n",
        "var_name = 87.65\n",
        "print(var_name)\n",
        "print(type(var_name))\n"
      ],
      "metadata": {
        "colab": {
          "base_uri": "https://localhost:8080/"
        },
        "id": "Jvlk7fKj7zNt",
        "outputId": "7a3f3a30-1861-4be3-9260-47d5a4faecdf"
      },
      "execution_count": null,
      "outputs": [
        {
          "output_type": "stream",
          "name": "stdout",
          "text": [
            "Anurag\n",
            "<class 'str'>\n",
            "Arun\n",
            "<class 'str'>\n",
            "9890781832\n",
            "<class 'int'>\n",
            "anurag.edlabadkar@gmail.com\n",
            "<class 'str'>\n",
            "87.65\n",
            "<class 'float'>\n"
          ]
        }
      ]
    },
    {
      "cell_type": "code",
      "source": [
        "var ='Shreaj'\n",
        "print(type(var))\n",
        "print(var)\n",
        "var = 30\n",
        "print(type(var))\n",
        "print(var)\n",
        "var =85.45\n",
        "print(type(var))\n",
        "print(var)\n",
        "var ='Shreaj.nakarmi@gmail.com'\n",
        "print(type(var))\n",
        "print(var)\n",
        "var =123456789\n",
        "print(type(var))\n",
        "print(var)"
      ],
      "metadata": {
        "colab": {
          "base_uri": "https://localhost:8080/"
        },
        "id": "PYE92Sfa9vR5",
        "outputId": "1336b613-9880-4561-8c5b-8b5c17ef870e"
      },
      "execution_count": null,
      "outputs": [
        {
          "output_type": "stream",
          "name": "stdout",
          "text": [
            "<class 'str'>\n",
            "Shreaj\n",
            "<class 'int'>\n",
            "30\n",
            "<class 'float'>\n",
            "85.45\n",
            "<class 'str'>\n",
            "Shreaj.nakarmi@gmail.com\n",
            "<class 'int'>\n",
            "123456789\n"
          ]
        }
      ]
    }
  ]
}