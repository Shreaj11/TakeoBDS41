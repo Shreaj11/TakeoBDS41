{
  "nbformat": 4,
  "nbformat_minor": 0,
  "metadata": {
    "colab": {
      "provenance": [],
      "authorship_tag": "ABX9TyNHqBBbIVsy8B9LC16uq6h7",
      "include_colab_link": true
    },
    "kernelspec": {
      "name": "python3",
      "display_name": "Python 3"
    },
    "language_info": {
      "name": "python"
    }
  },
  "cells": [
    {
      "cell_type": "markdown",
      "metadata": {
        "id": "view-in-github",
        "colab_type": "text"
      },
      "source": [
        "<a href=\"https://colab.research.google.com/github/Shreaj11/TakeoBDS41/blob/main/BDS41_11DEC2023.ipynb\" target=\"_parent\"><img src=\"https://colab.research.google.com/assets/colab-badge.svg\" alt=\"Open In Colab\"/></a>"
      ]
    },
    {
      "cell_type": "markdown",
      "source": [
        "\n",
        "\n",
        "# **Functions**\n",
        "1. Build in Function\n",
        "2. User Define Function\n",
        "3. Lambda Function\n"
      ],
      "metadata": {
        "id": "rJGMguYTkurf"
      }
    },
    {
      "cell_type": "markdown",
      "source": [
        "https://docs.python.org/3/library/functions.html\n",
        "\n",
        "\n",
        "\n",
        "\n",
        "\n"
      ],
      "metadata": {
        "id": "48arDTYMm4fh"
      }
    },
    {
      "cell_type": "code",
      "execution_count": 1,
      "metadata": {
        "colab": {
          "base_uri": "https://localhost:8080/"
        },
        "id": "_bI65QnBjHCP",
        "outputId": "112f0851-8ed8-4527-8e3e-8cc0180024ad"
      },
      "outputs": [
        {
          "output_type": "stream",
          "name": "stdout",
          "text": [
            "Welcome to Takeo Data Science Bootcamp - BDS41\n"
          ]
        }
      ],
      "source": [
        "print('Welcome to Takeo Data Science Bootcamp - BDS41')"
      ]
    },
    {
      "cell_type": "code",
      "source": [
        "a = input('Please Enter Your Name')\n",
        "print('Hello ', a)"
      ],
      "metadata": {
        "colab": {
          "base_uri": "https://localhost:8080/"
        },
        "id": "BaX-fmRAjOI2",
        "outputId": "d64797cf-dfe3-44f7-bc1f-c1f64199bdd1"
      },
      "execution_count": 3,
      "outputs": [
        {
          "output_type": "stream",
          "name": "stdout",
          "text": [
            "Please Enter Your Name Shreaj Nakarmi\n",
            "Hello  Shreaj Nakarmi\n"
          ]
        }
      ]
    },
    {
      "cell_type": "code",
      "source": [
        "# Default data type of 'input' function is string"
      ],
      "metadata": {
        "id": "3IlwDUFVjOLv"
      },
      "execution_count": null,
      "outputs": []
    },
    {
      "cell_type": "code",
      "source": [
        "a  = int(input('Marks in Mathematics: '))\n",
        "b  = int(input('Marks in Science: '))\n",
        "c  = int(input('Marks in social Science: '))\n",
        "\n",
        "total = a + b + c\n",
        "print(total)\n"
      ],
      "metadata": {
        "colab": {
          "base_uri": "https://localhost:8080/"
        },
        "id": "VrmWD3yKjOOT",
        "outputId": "75ad3236-0dd4-4b92-a856-7a8e809f94f2"
      },
      "execution_count": 5,
      "outputs": [
        {
          "output_type": "stream",
          "name": "stdout",
          "text": [
            "Marks in Mathematics: 98\n",
            "Marks in Science: 88\n",
            "Marks in social Science: 78\n",
            "264\n"
          ]
        }
      ]
    },
    {
      "cell_type": "markdown",
      "source": [
        "\n",
        "\n",
        "# **Python Type casting Functions:**\n",
        "1. int\n",
        "2. float\n",
        "3. complex\n",
        "3. complex\n",
        "4. boolean\n",
        "5. string\n",
        "6. list\n",
        "7. tuple\n",
        "8. set\n",
        "9. ditionary"
      ],
      "metadata": {
        "id": "LDzDAt01rA8w"
      }
    },
    {
      "cell_type": "code",
      "source": [
        "a  = float(input('Marks in Mathematics: '))\n",
        "b  = float(input('Marks in Science: '))\n",
        "c  = float(input('Marks in social Science: '))\n",
        "\n",
        "total = a + b + c\n",
        "print(total)\n",
        "print(type(total))"
      ],
      "metadata": {
        "colab": {
          "base_uri": "https://localhost:8080/"
        },
        "id": "p_FMUTQyjOQh",
        "outputId": "35e29770-ccc7-462c-906c-38be6d92fda8"
      },
      "execution_count": 7,
      "outputs": [
        {
          "output_type": "stream",
          "name": "stdout",
          "text": [
            "Marks in Mathematics: 98.76\n",
            "Marks in Science: 87.65\n",
            "Marks in social Science: 76.54\n",
            "262.95000000000005\n",
            "<class 'float'>\n"
          ]
        }
      ]
    },
    {
      "cell_type": "code",
      "source": [
        "a  = complex(input('input 1 '))\n",
        "b  = complex(input('input 2 '))\n",
        "c  = complex(input('input 3 '))\n",
        "\n",
        "total = a + b + c\n",
        "print(total)\n",
        "print(type(total))"
      ],
      "metadata": {
        "colab": {
          "base_uri": "https://localhost:8080/"
        },
        "id": "KAm72OB_jOS8",
        "outputId": "686eecfb-f689-48a0-f901-4994f8e15eea"
      },
      "execution_count": 9,
      "outputs": [
        {
          "output_type": "stream",
          "name": "stdout",
          "text": [
            "input 1 12+23j\n",
            "input 2 -23-34j\n",
            "input 3 34+54j\n",
            "(23+43j)\n",
            "<class 'complex'>\n"
          ]
        }
      ]
    },
    {
      "cell_type": "code",
      "source": [
        "var_str1 = 'Python programming'\n",
        "\n",
        "print(list(var_str1))"
      ],
      "metadata": {
        "colab": {
          "base_uri": "https://localhost:8080/"
        },
        "id": "sQpe3KAMjOVP",
        "outputId": "8fe38a37-2a85-42c0-d4a2-24d67f220f5d"
      },
      "execution_count": 10,
      "outputs": [
        {
          "output_type": "stream",
          "name": "stdout",
          "text": [
            "['P', 'y', 't', 'h', 'o', 'n', ' ', 'p', 'r', 'o', 'g', 'r', 'a', 'm', 'm', 'i', 'n', 'g']\n"
          ]
        }
      ]
    },
    {
      "cell_type": "code",
      "source": [
        "var_str1 = 'Python programming'\n",
        "\n",
        "print(tuple(var_str1))"
      ],
      "metadata": {
        "colab": {
          "base_uri": "https://localhost:8080/"
        },
        "id": "myeSIx0qjOXz",
        "outputId": "06859504-5fb1-4cf8-8b9e-21ac3cbfb6bf"
      },
      "execution_count": 11,
      "outputs": [
        {
          "output_type": "stream",
          "name": "stdout",
          "text": [
            "('P', 'y', 't', 'h', 'o', 'n', ' ', 'p', 'r', 'o', 'g', 'r', 'a', 'm', 'm', 'i', 'n', 'g')\n"
          ]
        }
      ]
    },
    {
      "cell_type": "code",
      "source": [
        "var_str1 = 'Python programming'\n",
        "\n",
        "print(set(var_str1))"
      ],
      "metadata": {
        "colab": {
          "base_uri": "https://localhost:8080/"
        },
        "id": "kYHEW4XZjOaX",
        "outputId": "ee663bb9-5142-4923-ff1b-f226fbb9c83b"
      },
      "execution_count": 12,
      "outputs": [
        {
          "output_type": "stream",
          "name": "stdout",
          "text": [
            "{'i', 't', 'g', ' ', 'r', 'h', 'P', 'n', 'p', 'o', 'a', 'y', 'm'}\n"
          ]
        }
      ]
    },
    {
      "cell_type": "code",
      "source": [
        "var_str2 = 'Hello How are You'\n",
        "\n",
        "print(list(var_str2))"
      ],
      "metadata": {
        "colab": {
          "base_uri": "https://localhost:8080/"
        },
        "id": "_SIYzGWsjOck",
        "outputId": "d59cbf39-e435-4853-d03b-cf500602b15d"
      },
      "execution_count": 14,
      "outputs": [
        {
          "output_type": "stream",
          "name": "stdout",
          "text": [
            "['H', 'e', 'l', 'l', 'o', ' ', 'H', 'o', 'w', ' ', 'a', 'r', 'e', ' ', 'Y', 'o', 'u']\n"
          ]
        }
      ]
    },
    {
      "cell_type": "code",
      "source": [
        "var_str2 = 'Hello How are You'\n",
        "\n",
        "print(tuple(var_str2))"
      ],
      "metadata": {
        "colab": {
          "base_uri": "https://localhost:8080/"
        },
        "id": "Y-w7RWdYjOiO",
        "outputId": "ff01a531-e2c4-4617-9212-a10d29461b62"
      },
      "execution_count": 16,
      "outputs": [
        {
          "output_type": "stream",
          "name": "stdout",
          "text": [
            "('H', 'e', 'l', 'l', 'o', ' ', 'H', 'o', 'w', ' ', 'a', 'r', 'e', ' ', 'Y', 'o', 'u')\n"
          ]
        }
      ]
    },
    {
      "cell_type": "code",
      "source": [
        "var_str2 = 'Hello How are You'\n",
        "\n",
        "print(set(var_str2))"
      ],
      "metadata": {
        "colab": {
          "base_uri": "https://localhost:8080/"
        },
        "id": "KCRYZhDIjOk8",
        "outputId": "7ee00f42-bc17-42ee-ee14-766d29df6656"
      },
      "execution_count": 15,
      "outputs": [
        {
          "output_type": "stream",
          "name": "stdout",
          "text": [
            "{'a', 'u', 'e', ' ', 'r', 'l', 'Y', 'o', 'w', 'H'}\n"
          ]
        }
      ]
    },
    {
      "cell_type": "code",
      "source": [
        "lst1=[(1,'a'),(2,'b')]\n",
        "print(lst1)\n",
        "print(dict(lst1))"
      ],
      "metadata": {
        "colab": {
          "base_uri": "https://localhost:8080/"
        },
        "id": "XZV6wO4HjOnc",
        "outputId": "83745204-b08e-4d29-cd70-8704028785d9"
      },
      "execution_count": 19,
      "outputs": [
        {
          "output_type": "stream",
          "name": "stdout",
          "text": [
            "[(1, 'a'), (2, 'b')]\n",
            "{1: 'a', 2: 'b'}\n"
          ]
        }
      ]
    },
    {
      "cell_type": "code",
      "source": [
        "lst1=[[1,'a'],[2,'b']]\n",
        "print(lst1)\n",
        "print(dict(lst1))"
      ],
      "metadata": {
        "colab": {
          "base_uri": "https://localhost:8080/"
        },
        "id": "zMZbiROLjOqP",
        "outputId": "dbbc7a0f-ed4f-407e-f742-0ddc4cd1eb62"
      },
      "execution_count": 20,
      "outputs": [
        {
          "output_type": "stream",
          "name": "stdout",
          "text": [
            "[[1, 'a'], [2, 'b']]\n",
            "{1: 'a', 2: 'b'}\n"
          ]
        }
      ]
    },
    {
      "cell_type": "code",
      "source": [
        "lst1=((1,'a'),(2,'b'))\n",
        "print(lst1)\n",
        "print(dict(lst1))"
      ],
      "metadata": {
        "colab": {
          "base_uri": "https://localhost:8080/"
        },
        "id": "rL8w1CvtjOst",
        "outputId": "ca1e19fb-f2ce-42ae-981a-518b0f16f3ac"
      },
      "execution_count": 21,
      "outputs": [
        {
          "output_type": "stream",
          "name": "stdout",
          "text": [
            "((1, 'a'), (2, 'b'))\n",
            "{1: 'a', 2: 'b'}\n"
          ]
        }
      ]
    },
    {
      "cell_type": "code",
      "source": [
        "lst1=([1,'a'],[2,'b'])\n",
        "print(lst1)\n",
        "print(dict(lst1))"
      ],
      "metadata": {
        "colab": {
          "base_uri": "https://localhost:8080/"
        },
        "id": "xRp_BDVNjOvA",
        "outputId": "b5ba2a6d-f2ae-4d03-de77-2abcd0e54757"
      },
      "execution_count": 22,
      "outputs": [
        {
          "output_type": "stream",
          "name": "stdout",
          "text": [
            "([1, 'a'], [2, 'b'])\n",
            "{1: 'a', 2: 'b'}\n"
          ]
        }
      ]
    },
    {
      "cell_type": "code",
      "source": [
        "lst1={(1,'a'),(2,'b')}\n",
        "print(lst1)\n",
        "print(dict(lst1))"
      ],
      "metadata": {
        "colab": {
          "base_uri": "https://localhost:8080/"
        },
        "id": "2sUmNJR8jOxV",
        "outputId": "d8205677-8050-4db3-d1dc-aa91f5b107f0"
      },
      "execution_count": 23,
      "outputs": [
        {
          "output_type": "stream",
          "name": "stdout",
          "text": [
            "{(2, 'b'), (1, 'a')}\n",
            "{2: 'b', 1: 'a'}\n"
          ]
        }
      ]
    },
    {
      "cell_type": "code",
      "source": [
        "lst1=({1,'a'},{2,'b'})\n",
        "print(lst1)\n",
        "print(dict(lst1))"
      ],
      "metadata": {
        "colab": {
          "base_uri": "https://localhost:8080/"
        },
        "id": "Xbcg_COnjOz7",
        "outputId": "b955c26f-e97f-45ef-94da-77c268ef7f6c"
      },
      "execution_count": 24,
      "outputs": [
        {
          "output_type": "stream",
          "name": "stdout",
          "text": [
            "({1, 'a'}, {2, 'b'})\n",
            "{1: 'a', 2: 'b'}\n"
          ]
        }
      ]
    },
    {
      "cell_type": "code",
      "source": [
        "lst1=[{1,'a'},{2,'b'}]\n",
        "print(lst1)\n",
        "print(dict(lst1))"
      ],
      "metadata": {
        "colab": {
          "base_uri": "https://localhost:8080/"
        },
        "id": "VTi2JuORjO2Y",
        "outputId": "ab8b6c3c-8c61-4cb9-82e2-2ca1c484cb37"
      },
      "execution_count": 25,
      "outputs": [
        {
          "output_type": "stream",
          "name": "stdout",
          "text": [
            "[{1, 'a'}, {2, 'b'}]\n",
            "{1: 'a', 2: 'b'}\n"
          ]
        }
      ]
    },
    {
      "cell_type": "code",
      "source": [
        "for i in range(0,100,1):\n",
        "    print('Decimal', i)\n",
        "    print('Binary',bin(i))\n",
        "    print('Octa Decimal', oct(i))\n",
        "    print('Hexa Decimal', hex(i))\n"
      ],
      "metadata": {
        "id": "zM1qF6LmjO47"
      },
      "execution_count": null,
      "outputs": []
    },
    {
      "cell_type": "code",
      "source": [
        "for i in range(0,20,1):\n",
        "\n",
        "    print('Binary',bin(i))\n",
        ""
      ],
      "metadata": {
        "colab": {
          "base_uri": "https://localhost:8080/"
        },
        "id": "-UM2cjoPjO7D",
        "outputId": "a2d1f947-e373-4a22-e54c-7cda09ee0e6e"
      },
      "execution_count": 32,
      "outputs": [
        {
          "output_type": "stream",
          "name": "stdout",
          "text": [
            "Binary 0b0\n",
            "Binary 0b1\n",
            "Binary 0b10\n",
            "Binary 0b11\n",
            "Binary 0b100\n",
            "Binary 0b101\n",
            "Binary 0b110\n",
            "Binary 0b111\n",
            "Binary 0b1000\n",
            "Binary 0b1001\n",
            "Binary 0b1010\n",
            "Binary 0b1011\n",
            "Binary 0b1100\n",
            "Binary 0b1101\n",
            "Binary 0b1110\n",
            "Binary 0b1111\n",
            "Binary 0b10000\n",
            "Binary 0b10001\n",
            "Binary 0b10010\n",
            "Binary 0b10011\n"
          ]
        }
      ]
    },
    {
      "cell_type": "code",
      "source": [
        "for i in range(0,20,1):\n",
        "\n",
        "    print('Octa Decimal', oct(i))\n",
        ""
      ],
      "metadata": {
        "colab": {
          "base_uri": "https://localhost:8080/"
        },
        "id": "iDfNwbHmjO9W",
        "outputId": "fa304287-c1c9-48c0-800f-df6622d44dc2"
      },
      "execution_count": 33,
      "outputs": [
        {
          "output_type": "stream",
          "name": "stdout",
          "text": [
            "Octa Decimal 0o0\n",
            "Octa Decimal 0o1\n",
            "Octa Decimal 0o2\n",
            "Octa Decimal 0o3\n",
            "Octa Decimal 0o4\n",
            "Octa Decimal 0o5\n",
            "Octa Decimal 0o6\n",
            "Octa Decimal 0o7\n",
            "Octa Decimal 0o10\n",
            "Octa Decimal 0o11\n",
            "Octa Decimal 0o12\n",
            "Octa Decimal 0o13\n",
            "Octa Decimal 0o14\n",
            "Octa Decimal 0o15\n",
            "Octa Decimal 0o16\n",
            "Octa Decimal 0o17\n",
            "Octa Decimal 0o20\n",
            "Octa Decimal 0o21\n",
            "Octa Decimal 0o22\n",
            "Octa Decimal 0o23\n"
          ]
        }
      ]
    },
    {
      "cell_type": "code",
      "source": [
        "for i in range(0,20,1):\n",
        "\n",
        "    print('Hexa Decimal', hex(i))"
      ],
      "metadata": {
        "colab": {
          "base_uri": "https://localhost:8080/"
        },
        "id": "MHWLQTW3jPCE",
        "outputId": "237aad2e-139c-4734-99ca-f5b6a4e3b1fc"
      },
      "execution_count": 35,
      "outputs": [
        {
          "output_type": "stream",
          "name": "stdout",
          "text": [
            "Hexa Decimal 0x0\n",
            "Hexa Decimal 0x1\n",
            "Hexa Decimal 0x2\n",
            "Hexa Decimal 0x3\n",
            "Hexa Decimal 0x4\n",
            "Hexa Decimal 0x5\n",
            "Hexa Decimal 0x6\n",
            "Hexa Decimal 0x7\n",
            "Hexa Decimal 0x8\n",
            "Hexa Decimal 0x9\n",
            "Hexa Decimal 0xa\n",
            "Hexa Decimal 0xb\n",
            "Hexa Decimal 0xc\n",
            "Hexa Decimal 0xd\n",
            "Hexa Decimal 0xe\n",
            "Hexa Decimal 0xf\n",
            "Hexa Decimal 0x10\n",
            "Hexa Decimal 0x11\n",
            "Hexa Decimal 0x12\n",
            "Hexa Decimal 0x13\n"
          ]
        }
      ]
    },
    {
      "cell_type": "code",
      "source": [
        "help(print) #explain the function"
      ],
      "metadata": {
        "colab": {
          "base_uri": "https://localhost:8080/"
        },
        "id": "vMvtnzLnjPEZ",
        "outputId": "39a82937-dac3-47ac-cb59-5de70e4beb4a"
      },
      "execution_count": 36,
      "outputs": [
        {
          "output_type": "stream",
          "name": "stdout",
          "text": [
            "Help on built-in function print in module builtins:\n",
            "\n",
            "print(...)\n",
            "    print(value, ..., sep=' ', end='\\n', file=sys.stdout, flush=False)\n",
            "    \n",
            "    Prints the values to a stream, or to sys.stdout by default.\n",
            "    Optional keyword arguments:\n",
            "    file:  a file-like object (stream); defaults to the current sys.stdout.\n",
            "    sep:   string inserted between values, default a space.\n",
            "    end:   string appended after the last value, default a newline.\n",
            "    flush: whether to forcibly flush the stream.\n",
            "\n"
          ]
        }
      ]
    },
    {
      "cell_type": "code",
      "source": [
        "lst1= ['apple','banana','cherries','dates','eggfruit','fig','grapes']\n",
        "\n",
        "x = iter(lst1)\n",
        "\n",
        "print(next(x))\n",
        "print(next(x))\n",
        "print(next(x))\n",
        "print(next(x))\n",
        "print(next(x))\n",
        "print(next(x))\n",
        "print(next(x))"
      ],
      "metadata": {
        "colab": {
          "base_uri": "https://localhost:8080/"
        },
        "id": "kw5tYtvjjPGt",
        "outputId": "a8678978-ef96-45e0-d040-6f2c5c47ab4c"
      },
      "execution_count": 45,
      "outputs": [
        {
          "output_type": "stream",
          "name": "stdout",
          "text": [
            "apple\n",
            "banana\n",
            "cherries\n",
            "dates\n",
            "eggfruit\n",
            "fig\n",
            "grapes\n"
          ]
        }
      ]
    },
    {
      "cell_type": "code",
      "source": [
        "tup1= ('apple','banana','cherries','dates','eggfruit','fig','grapes')\n",
        "\n",
        "x = iter(tup1)\n",
        "\n",
        "print(next(x))\n",
        "print(next(x))\n",
        "print(next(x))\n",
        "print(next(x))\n",
        "print(next(x))\n",
        "print(next(x))\n",
        "print(next(x))"
      ],
      "metadata": {
        "colab": {
          "base_uri": "https://localhost:8080/"
        },
        "id": "57swer7pjPI7",
        "outputId": "9b247dca-efc3-450e-fd80-7710753427ed"
      },
      "execution_count": 52,
      "outputs": [
        {
          "output_type": "stream",
          "name": "stdout",
          "text": [
            "apple\n",
            "banana\n",
            "cherries\n",
            "dates\n",
            "eggfruit\n",
            "fig\n",
            "grapes\n"
          ]
        }
      ]
    },
    {
      "cell_type": "code",
      "source": [
        "set1= {'apple','banana','cherries','dates','eggfruit','fig','grapes','banana','cherries','dates','eggfruit','fig','grapes'}\n",
        "\n",
        "x = iter(set1)\n",
        "\n",
        "print(next(x))\n",
        "print(next(x))\n",
        "print(next(x))\n",
        "print(next(x))\n",
        "print(next(x))\n",
        "print(next(x))\n",
        "print(next(x))\n",
        "\n"
      ],
      "metadata": {
        "colab": {
          "base_uri": "https://localhost:8080/"
        },
        "id": "CEsmAVmFjPLq",
        "outputId": "5ba55ac0-6a4b-4738-8ce6-22bcf0354b83"
      },
      "execution_count": 51,
      "outputs": [
        {
          "output_type": "stream",
          "name": "stdout",
          "text": [
            "dates\n",
            "fig\n",
            "apple\n",
            "grapes\n",
            "cherries\n",
            "eggfruit\n",
            "banana\n"
          ]
        }
      ]
    },
    {
      "cell_type": "code",
      "source": [
        "str1 = 'python programming'\n",
        "len(str1)"
      ],
      "metadata": {
        "colab": {
          "base_uri": "https://localhost:8080/"
        },
        "id": "Ge1ckWhbjPN4",
        "outputId": "a04c94af-b888-4166-b26c-647c6a8e17e8"
      },
      "execution_count": 53,
      "outputs": [
        {
          "output_type": "execute_result",
          "data": {
            "text/plain": [
              "18"
            ]
          },
          "metadata": {},
          "execution_count": 53
        }
      ]
    },
    {
      "cell_type": "code",
      "source": [
        "lst1= ['apple','banana','cherries','dates','eggfruit','fig','grapes']\n",
        "len(lst1)"
      ],
      "metadata": {
        "colab": {
          "base_uri": "https://localhost:8080/"
        },
        "id": "yA1ABlyujPQg",
        "outputId": "c9bc2329-a1d0-4ae4-b709-48d10c8026c2"
      },
      "execution_count": 54,
      "outputs": [
        {
          "output_type": "execute_result",
          "data": {
            "text/plain": [
              "7"
            ]
          },
          "metadata": {},
          "execution_count": 54
        }
      ]
    },
    {
      "cell_type": "code",
      "source": [
        "min(lst1)\n"
      ],
      "metadata": {
        "colab": {
          "base_uri": "https://localhost:8080/",
          "height": 35
        },
        "id": "1E4lXym6jPSs",
        "outputId": "219492d0-e8c3-419b-e95b-97d6d5ff4a54"
      },
      "execution_count": 57,
      "outputs": [
        {
          "output_type": "execute_result",
          "data": {
            "text/plain": [
              "'apple'"
            ],
            "application/vnd.google.colaboratory.intrinsic+json": {
              "type": "string"
            }
          },
          "metadata": {},
          "execution_count": 57
        }
      ]
    },
    {
      "cell_type": "code",
      "source": [
        "max(lst1)"
      ],
      "metadata": {
        "colab": {
          "base_uri": "https://localhost:8080/",
          "height": 35
        },
        "id": "m23XikW3jPVb",
        "outputId": "40e65a7e-4a37-4bf8-ddc0-4500b65fc1c5"
      },
      "execution_count": 58,
      "outputs": [
        {
          "output_type": "execute_result",
          "data": {
            "text/plain": [
              "'grapes'"
            ],
            "application/vnd.google.colaboratory.intrinsic+json": {
              "type": "string"
            }
          },
          "metadata": {},
          "execution_count": 58
        }
      ]
    },
    {
      "cell_type": "code",
      "source": [
        "flt1 = 3.14145123478932\n",
        "round(flt1)"
      ],
      "metadata": {
        "colab": {
          "base_uri": "https://localhost:8080/"
        },
        "id": "sv4RNO79jPX4",
        "outputId": "981abd61-00ba-4be1-9326-dde14a8eae89"
      },
      "execution_count": 59,
      "outputs": [
        {
          "output_type": "execute_result",
          "data": {
            "text/plain": [
              "3"
            ]
          },
          "metadata": {},
          "execution_count": 59
        }
      ]
    },
    {
      "cell_type": "code",
      "source": [
        "flt1 = 3.59145123478932\n",
        "round(flt1)"
      ],
      "metadata": {
        "colab": {
          "base_uri": "https://localhost:8080/"
        },
        "id": "udR0DZdejPaT",
        "outputId": "f948464c-a54e-4cde-dc23-b080c5f31bbe"
      },
      "execution_count": 60,
      "outputs": [
        {
          "output_type": "execute_result",
          "data": {
            "text/plain": [
              "4"
            ]
          },
          "metadata": {},
          "execution_count": 60
        }
      ]
    },
    {
      "cell_type": "code",
      "source": [
        "lst1 = [1.1, 1.2, 1.307, 1.5, 1.6,1.09,1.306,1.305,1]\n",
        "sorted(lst1)\n",
        "print(lst1.sort())\n",
        "lst1"
      ],
      "metadata": {
        "colab": {
          "base_uri": "https://localhost:8080/"
        },
        "id": "YCS1dSVRjPdM",
        "outputId": "2dc8e931-704c-4cea-d0e7-a213dbb840cd"
      },
      "execution_count": 67,
      "outputs": [
        {
          "output_type": "stream",
          "name": "stdout",
          "text": [
            "None\n"
          ]
        },
        {
          "output_type": "execute_result",
          "data": {
            "text/plain": [
              "[1, 1.09, 1.1, 1.2, 1.305, 1.306, 1.307, 1.5, 1.6]"
            ]
          },
          "metadata": {},
          "execution_count": 67
        }
      ]
    },
    {
      "cell_type": "code",
      "source": [
        "# prompt: lst1 = [1.1, 1.2, 1.307, 1.5, 1.6,1.09,1.306,1.305,1]  sort this list\n",
        "\n",
        "lst1.sort()\n"
      ],
      "metadata": {
        "id": "DQSvF6-CjPfi"
      },
      "execution_count": null,
      "outputs": []
    },
    {
      "cell_type": "code",
      "source": [],
      "metadata": {
        "id": "bbIHDaNOjPiC"
      },
      "execution_count": null,
      "outputs": []
    },
    {
      "cell_type": "code",
      "source": [],
      "metadata": {
        "id": "lmghZVsSjPki"
      },
      "execution_count": null,
      "outputs": []
    },
    {
      "cell_type": "code",
      "source": [],
      "metadata": {
        "id": "i-AHvgyjjPn9"
      },
      "execution_count": null,
      "outputs": []
    }
  ]
}