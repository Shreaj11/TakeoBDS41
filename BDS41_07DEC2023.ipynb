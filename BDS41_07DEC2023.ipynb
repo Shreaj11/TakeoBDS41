{
  "nbformat": 4,
  "nbformat_minor": 0,
  "metadata": {
    "colab": {
      "provenance": [],
      "authorship_tag": "ABX9TyN7pLst3N82mfax370QoOZw",
      "include_colab_link": true
    },
    "kernelspec": {
      "name": "python3",
      "display_name": "Python 3"
    },
    "language_info": {
      "name": "python"
    }
  },
  "cells": [
    {
      "cell_type": "markdown",
      "metadata": {
        "id": "view-in-github",
        "colab_type": "text"
      },
      "source": [
        "<a href=\"https://colab.research.google.com/github/Shreaj11/TakeoBDS41/blob/main/BDS41_07DEC2023.ipynb\" target=\"_parent\"><img src=\"https://colab.research.google.com/assets/colab-badge.svg\" alt=\"Open In Colab\"/></a>"
      ]
    },
    {
      "cell_type": "markdown",
      "source": [
        "\n",
        "\n",
        "# **Thursday Dec 07 2023**\n",
        "\n"
      ],
      "metadata": {
        "id": "Coe3TCrDATR8"
      }
    },
    {
      "cell_type": "code",
      "execution_count": null,
      "metadata": {
        "colab": {
          "base_uri": "https://localhost:8080/"
        },
        "id": "epIdcW-I9LQ5",
        "outputId": "43072b09-feaa-4e26-fc36-764e02833173"
      },
      "outputs": [
        {
          "output_type": "stream",
          "name": "stdout",
          "text": [
            "a is less than b\n"
          ]
        }
      ],
      "source": [
        "a = 10\n",
        "b = 20\n",
        "if a< b:\n",
        "  print('a is less than b')"
      ]
    },
    {
      "cell_type": "code",
      "source": [
        "a = 10\n",
        "b = 20\n",
        "if a > b:\n",
        "  print('a is less than b')"
      ],
      "metadata": {
        "id": "Pvm7gl3l9OwM"
      },
      "execution_count": null,
      "outputs": []
    },
    {
      "cell_type": "code",
      "source": [
        "a = 10\n",
        "b = 20\n",
        "if a > b:\n",
        "  print('a is greater than b')\n",
        "else:\n",
        "  print('a is less than b')\n"
      ],
      "metadata": {
        "colab": {
          "base_uri": "https://localhost:8080/"
        },
        "id": "RuciQbzk9OtR",
        "outputId": "316c7f38-8eb8-4028-f2fb-6f9acee7deb6"
      },
      "execution_count": null,
      "outputs": [
        {
          "output_type": "stream",
          "name": "stdout",
          "text": [
            "a is less than b\n"
          ]
        }
      ]
    },
    {
      "cell_type": "code",
      "source": [
        "a= 10\n",
        "b = 20\n",
        "c = 30\n",
        "\n",
        "if(a<b)and (b<c):\n",
        "  print('Condition is true')"
      ],
      "metadata": {
        "colab": {
          "base_uri": "https://localhost:8080/"
        },
        "id": "ysek4ZvQ9Oq3",
        "outputId": "dfc64f38-b4be-4418-e7ff-272467cabcf3"
      },
      "execution_count": null,
      "outputs": [
        {
          "output_type": "stream",
          "name": "stdout",
          "text": [
            "Condition is true\n"
          ]
        }
      ]
    },
    {
      "cell_type": "code",
      "source": [
        "a = 10\n",
        "b = 20\n",
        "c = 30\n",
        "\n",
        "if(a > b) and (b < c):\n",
        "  print('Condition is true')"
      ],
      "metadata": {
        "id": "f1knD5C19Ooa"
      },
      "execution_count": null,
      "outputs": []
    },
    {
      "cell_type": "code",
      "source": [
        "a= 10\n",
        "b = 20\n",
        "c = 30\n",
        "\n",
        "if(a<b) or (b<c):\n",
        "  print('Condition is true')"
      ],
      "metadata": {
        "colab": {
          "base_uri": "https://localhost:8080/"
        },
        "id": "lwA0X6J39OmQ",
        "outputId": "4e73f4c7-993e-42e2-ca4b-32a7bcee713e"
      },
      "execution_count": null,
      "outputs": [
        {
          "output_type": "stream",
          "name": "stdout",
          "text": [
            "Condition is true\n"
          ]
        }
      ]
    },
    {
      "cell_type": "code",
      "source": [
        "a = 10\n",
        "b = 20\n",
        "c = 30\n",
        "\n",
        "if(a > b) or (b < c):\n",
        "  print('Condition is true')"
      ],
      "metadata": {
        "colab": {
          "base_uri": "https://localhost:8080/"
        },
        "id": "4JYnpJFE9OkY",
        "outputId": "72349068-9099-41a6-a8dc-fb4e3ec5993c"
      },
      "execution_count": null,
      "outputs": [
        {
          "output_type": "stream",
          "name": "stdout",
          "text": [
            "Condition is true\n"
          ]
        }
      ]
    },
    {
      "cell_type": "code",
      "source": [
        "a = 10\n",
        "b = 20\n",
        "c = 30\n",
        "\n",
        "if(a > b) and ((b < c) or (a , c)):\n",
        "  print('Condition is true')"
      ],
      "metadata": {
        "id": "bQRUrcAK9Oh-"
      },
      "execution_count": null,
      "outputs": []
    },
    {
      "cell_type": "code",
      "source": [
        "a = 10\n",
        "b = 20\n",
        "c = 30\n",
        "\n",
        "if ((a > b) and (b < c)) or (a < c):\n",
        "  print(\"condition is True\")"
      ],
      "metadata": {
        "colab": {
          "base_uri": "https://localhost:8080/"
        },
        "id": "yvg5rOn89OgC",
        "outputId": "1e0fd26b-2d50-49d0-ac48-904577d043eb"
      },
      "execution_count": null,
      "outputs": [
        {
          "output_type": "stream",
          "name": "stdout",
          "text": [
            "condition is True\n"
          ]
        }
      ]
    },
    {
      "cell_type": "code",
      "source": [
        "a = 5\n",
        "b = 15\n",
        "c = 20\n",
        "if (a<b) and (a<c):\n",
        "  print('a is smallest')\n",
        "elif (b<a) and (b<c):\n",
        "  print('b is smallest')\n",
        "else:\n",
        "  print('c is smallest')\n"
      ],
      "metadata": {
        "colab": {
          "base_uri": "https://localhost:8080/"
        },
        "id": "WETVEAo19Odr",
        "outputId": "8ed14ac2-00db-4a5e-a052-e3ac74bea5c2"
      },
      "execution_count": null,
      "outputs": [
        {
          "output_type": "stream",
          "name": "stdout",
          "text": [
            "a is smallest\n"
          ]
        }
      ]
    },
    {
      "cell_type": "code",
      "source": [
        "a = 10\n",
        "b = 20\n",
        "c = 30\n",
        "\n",
        "if (a > b) or ((b < c) or (a < c)):\n",
        "  print(\"condition is True\")"
      ],
      "metadata": {
        "colab": {
          "base_uri": "https://localhost:8080/"
        },
        "id": "08kgIf5s9Obs",
        "outputId": "dcd6c735-d9ff-448a-85bb-ae050735e741"
      },
      "execution_count": null,
      "outputs": [
        {
          "output_type": "stream",
          "name": "stdout",
          "text": [
            "condition is True\n"
          ]
        }
      ]
    },
    {
      "cell_type": "code",
      "source": [
        "a = 10\n",
        "b = 20\n",
        "c = 30\n",
        "\n",
        "if a > b:\n",
        "  print('a < b')\n",
        "elif b > c:\n",
        "  print('b < c')\n",
        "elif a > c:\n",
        "  print('a < c')\n",
        "else:\n",
        "  print('We are in else part')"
      ],
      "metadata": {
        "id": "PX6c87fu9OZW"
      },
      "execution_count": null,
      "outputs": []
    },
    {
      "cell_type": "code",
      "source": [
        "x = 25\n",
        "y = 20\n",
        "z = 22\n",
        "\n",
        "if x > y:\n",
        "  print('x > y')\n",
        "elif y > z:\n",
        "  print('y > z')\n",
        "elif x > z:\n",
        "  print('x > z')\n",
        "else:\n",
        "  print('We are in else part')"
      ],
      "metadata": {
        "colab": {
          "base_uri": "https://localhost:8080/"
        },
        "id": "3GlKuHDX9OWs",
        "outputId": "7cd40a13-8833-4fb5-d23c-ad5abfc2e89b"
      },
      "execution_count": null,
      "outputs": [
        {
          "output_type": "stream",
          "name": "stdout",
          "text": [
            "x > y\n"
          ]
        }
      ]
    },
    {
      "cell_type": "code",
      "source": [
        "#nested if\n",
        "a = 70\n",
        "\n",
        "if a < 100:\n",
        "  print('a < 100')\n",
        "  if a < 85:\n",
        "    print('a < 85')\n",
        "    if a < 70:\n",
        "      print('a < 70')\n",
        "      if a < 55:\n",
        "        print('a < 55')\n",
        "      else:\n",
        "        print('else a > 55')\n",
        "    else:\n",
        "      print('else a > 70')\n",
        "  else:\n",
        "     print('else a > 85')\n",
        "else:\n",
        "  print('else a > 100')\n"
      ],
      "metadata": {
        "colab": {
          "base_uri": "https://localhost:8080/"
        },
        "id": "l204Emw79OUm",
        "outputId": "1facd348-bda1-462b-8cf8-fc039937151d"
      },
      "execution_count": 35,
      "outputs": [
        {
          "output_type": "stream",
          "name": "stdout",
          "text": [
            "a < 100\n",
            "a < 85\n",
            "else a > 70\n"
          ]
        }
      ]
    },
    {
      "cell_type": "code",
      "source": [
        "x = 70\n",
        "\n",
        "if x > 100:\n",
        "  print('x > 20')\n",
        "  if x > 85:\n",
        "    print('x > 85')\n",
        "    if x > 70:\n",
        "      print('x > 70')\n",
        "      if x > 55:\n",
        "        print('x > 55')\n",
        "      else:\n",
        "        print('else x < 55')\n",
        "    else:\n",
        "      print('else x < 70')\n",
        "  else:\n",
        "     print('else x < 85')\n",
        "else:\n",
        "  print('else x < 100')"
      ],
      "metadata": {
        "id": "CO5FTfNh9OSe",
        "colab": {
          "base_uri": "https://localhost:8080/"
        },
        "outputId": "4af22caa-6d8f-4d05-8717-637c987957a7"
      },
      "execution_count": 36,
      "outputs": [
        {
          "output_type": "stream",
          "name": "stdout",
          "text": [
            "else x < 100\n"
          ]
        }
      ]
    },
    {
      "cell_type": "markdown",
      "source": [
        "### **Loop**"
      ],
      "metadata": {
        "id": "60BwRdLZMgiD"
      }
    },
    {
      "cell_type": "code",
      "source": [
        "# loop\n",
        "sum = 0\n",
        "for i in range(1,101,1):\n",
        "  sum +=i\n",
        "print(sum)"
      ],
      "metadata": {
        "id": "H_qqqwMK9OQD",
        "colab": {
          "base_uri": "https://localhost:8080/"
        },
        "outputId": "fb12a2c2-4579-47fb-c8de-ef34ad47e844"
      },
      "execution_count": 40,
      "outputs": [
        {
          "output_type": "stream",
          "name": "stdout",
          "text": [
            "5050\n"
          ]
        }
      ]
    },
    {
      "cell_type": "code",
      "source": [
        "i = 1\n",
        "a = 0\n",
        "while i < 101:\n",
        "\n",
        "  a+=i\n",
        "  i +=1\n",
        "\n",
        "print(a)"
      ],
      "metadata": {
        "id": "fO6mg-QP9ONe",
        "colab": {
          "base_uri": "https://localhost:8080/"
        },
        "outputId": "6a064f6d-c12c-42f4-ab54-762dcf02a67e"
      },
      "execution_count": 50,
      "outputs": [
        {
          "output_type": "stream",
          "name": "stdout",
          "text": [
            "5050\n"
          ]
        }
      ]
    },
    {
      "cell_type": "code",
      "source": [
        "sum = 0\n",
        "for i in range(100,0,-1):\n",
        "  sum +=i\n",
        "print(sum)"
      ],
      "metadata": {
        "id": "aW0fy6oR9OLM",
        "colab": {
          "base_uri": "https://localhost:8080/"
        },
        "outputId": "b252084a-0ce6-4b3c-e453-72da48d10d88"
      },
      "execution_count": 62,
      "outputs": [
        {
          "output_type": "stream",
          "name": "stdout",
          "text": [
            "5050\n"
          ]
        }
      ]
    },
    {
      "cell_type": "code",
      "source": [
        "i = 100\n",
        "a = 0\n",
        "while i > 0:\n",
        "\n",
        "  a+=i\n",
        "  i -=1\n",
        "\n",
        "print(a)"
      ],
      "metadata": {
        "id": "YnUy7rn59OJE",
        "colab": {
          "base_uri": "https://localhost:8080/"
        },
        "outputId": "7ff50841-0875-42f8-c3eb-720b45cd0398"
      },
      "execution_count": 64,
      "outputs": [
        {
          "output_type": "stream",
          "name": "stdout",
          "text": [
            "5050\n"
          ]
        }
      ]
    },
    {
      "cell_type": "code",
      "source": [
        "\n",
        "sum = 0\n",
        "for i in range(1,10):\n",
        "  sum +=i\n",
        "else:\n",
        "  print('We are in else part')\n",
        "print(sum)\n",
        "\n"
      ],
      "metadata": {
        "id": "KUU9nEWO9OGl",
        "colab": {
          "base_uri": "https://localhost:8080/"
        },
        "outputId": "57b9a8d7-5d69-443d-a5c3-584aa0a0a6ce"
      },
      "execution_count": 77,
      "outputs": [
        {
          "output_type": "stream",
          "name": "stdout",
          "text": [
            "We are in else part\n",
            "45\n"
          ]
        }
      ]
    },
    {
      "cell_type": "code",
      "source": [],
      "metadata": {
        "id": "4PFvg8Ok9OD7"
      },
      "execution_count": null,
      "outputs": []
    },
    {
      "cell_type": "code",
      "source": [],
      "metadata": {
        "id": "_JupBCFU9OBr"
      },
      "execution_count": null,
      "outputs": []
    },
    {
      "cell_type": "code",
      "source": [],
      "metadata": {
        "id": "5pWrDsW89N_c"
      },
      "execution_count": null,
      "outputs": []
    },
    {
      "cell_type": "code",
      "source": [],
      "metadata": {
        "id": "hiNUBT9u9N8m"
      },
      "execution_count": null,
      "outputs": []
    },
    {
      "cell_type": "code",
      "source": [],
      "metadata": {
        "id": "yQ9BVOq69N6F"
      },
      "execution_count": null,
      "outputs": []
    },
    {
      "cell_type": "code",
      "source": [],
      "metadata": {
        "id": "4RvJGI6J9N3a"
      },
      "execution_count": null,
      "outputs": []
    },
    {
      "cell_type": "code",
      "source": [],
      "metadata": {
        "id": "minDAGjc9N0x"
      },
      "execution_count": null,
      "outputs": []
    },
    {
      "cell_type": "code",
      "source": [],
      "metadata": {
        "id": "slOQJ_g69NyV"
      },
      "execution_count": null,
      "outputs": []
    },
    {
      "cell_type": "code",
      "source": [],
      "metadata": {
        "id": "OkeNMlYQ9NwP"
      },
      "execution_count": null,
      "outputs": []
    },
    {
      "cell_type": "code",
      "source": [],
      "metadata": {
        "id": "f15G9vzl9Ntx"
      },
      "execution_count": null,
      "outputs": []
    },
    {
      "cell_type": "code",
      "source": [],
      "metadata": {
        "id": "GOb9PRax9NrR"
      },
      "execution_count": null,
      "outputs": []
    },
    {
      "cell_type": "code",
      "source": [],
      "metadata": {
        "id": "M0eb7erh9Nou"
      },
      "execution_count": null,
      "outputs": []
    },
    {
      "cell_type": "code",
      "source": [],
      "metadata": {
        "id": "0zigt0R09NmO"
      },
      "execution_count": null,
      "outputs": []
    },
    {
      "cell_type": "code",
      "source": [],
      "metadata": {
        "id": "OJClkS4G9Njm"
      },
      "execution_count": null,
      "outputs": []
    }
  ]
}